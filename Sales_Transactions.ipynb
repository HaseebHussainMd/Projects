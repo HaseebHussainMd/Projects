{
  "nbformat": 4,
  "nbformat_minor": 0,
  "metadata": {
    "colab": {
      "provenance": [],
      "include_colab_link": true
    },
    "kernelspec": {
      "name": "python3",
      "display_name": "Python 3"
    },
    "language_info": {
      "name": "python"
    }
  },
  "cells": [
    {
      "cell_type": "markdown",
      "metadata": {
        "id": "view-in-github",
        "colab_type": "text"
      },
      "source": [
        "<a href=\"https://colab.research.google.com/github/HaseebHussainMd/Projects/blob/main/Sales_Transactions.ipynb\" target=\"_parent\"><img src=\"https://colab.research.google.com/assets/colab-badge.svg\" alt=\"Open In Colab\"/></a>"
      ]
    },
    {
      "cell_type": "markdown",
      "source": [
        "# **Sales Transactions**"
      ],
      "metadata": {
        "id": "eRR29cHuRhrT"
      }
    },
    {
      "cell_type": "markdown",
      "source": [
        "***Data Overview***"
      ],
      "metadata": {
        "id": "_VT0AU7bU2oy"
      }
    },
    {
      "cell_type": "code",
      "source": [
        "import numpy as np\n",
        "import pandas as pd\n",
        "import matplotlib.pyplot as plt\n",
        "import seaborn as sns"
      ],
      "metadata": {
        "id": "t7AeC43ZRidY"
      },
      "execution_count": null,
      "outputs": []
    },
    {
      "cell_type": "code",
      "source": [
        "df= pd.read_csv('Data Source (sales_transactions).csv')"
      ],
      "metadata": {
        "id": "_-j5jOOHRkWT"
      },
      "execution_count": null,
      "outputs": []
    },
    {
      "cell_type": "code",
      "source": [
        "df.shape #Number of rows and columns"
      ],
      "metadata": {
        "colab": {
          "base_uri": "https://localhost:8080/"
        },
        "id": "SUEzugmpRt_n",
        "outputId": "17354ad8-613e-43c2-9091-e41e0677b8b5"
      },
      "execution_count": null,
      "outputs": [
        {
          "output_type": "execute_result",
          "data": {
            "text/plain": [
              "(50, 11)"
            ]
          },
          "metadata": {},
          "execution_count": 4
        }
      ]
    },
    {
      "cell_type": "markdown",
      "source": [
        "We have 50 rows and 11 columns in our dataset"
      ],
      "metadata": {
        "id": "FuitFwReSVoG"
      }
    },
    {
      "cell_type": "code",
      "source": [
        "df.info() #Column names and data types"
      ],
      "metadata": {
        "colab": {
          "base_uri": "https://localhost:8080/"
        },
        "id": "62JrQ07wR3to",
        "outputId": "9e2760ee-3e64-44ff-b4be-e1adb3ea9f54"
      },
      "execution_count": null,
      "outputs": [
        {
          "output_type": "stream",
          "name": "stdout",
          "text": [
            "<class 'pandas.core.frame.DataFrame'>\n",
            "RangeIndex: 50 entries, 0 to 49\n",
            "Data columns (total 11 columns):\n",
            " #   Column           Non-Null Count  Dtype  \n",
            "---  ------           --------------  -----  \n",
            " 0   TransactionID    50 non-null     int64  \n",
            " 1   CustomerID       45 non-null     float64\n",
            " 2   TransactionDate  49 non-null     object \n",
            " 3   ProductID        50 non-null     int64  \n",
            " 4   ProductCategory  50 non-null     object \n",
            " 5   Quantity         50 non-null     int64  \n",
            " 6   PricePerUnit     36 non-null     float64\n",
            " 7   TotalAmount      36 non-null     float64\n",
            " 8   TrustPointsUsed  50 non-null     int64  \n",
            " 9   PaymentMethod    40 non-null     object \n",
            " 10  DiscountApplied  45 non-null     float64\n",
            "dtypes: float64(4), int64(4), object(3)\n",
            "memory usage: 4.4+ KB\n"
          ]
        }
      ]
    },
    {
      "cell_type": "markdown",
      "source": [
        "\n",
        "\n",
        "\n",
        "\n",
        "1.   TransactionDate is stored as object but should be converted to a datetime format.\n",
        "2.   CustomerID is stored as float but should be converted to object format.\n",
        "\n"
      ],
      "metadata": {
        "id": "_TI4K2mtShib"
      }
    },
    {
      "cell_type": "code",
      "source": [
        "df.isna().sum().sort_values(ascending=False) #Checking for missing values"
      ],
      "metadata": {
        "colab": {
          "base_uri": "https://localhost:8080/",
          "height": 429
        },
        "id": "CTYc8AwBRvHe",
        "outputId": "d2b4150b-81ca-4ac9-fbd8-60a6985bd8c5"
      },
      "execution_count": null,
      "outputs": [
        {
          "output_type": "execute_result",
          "data": {
            "text/plain": [
              "PricePerUnit       14\n",
              "TotalAmount        14\n",
              "PaymentMethod      10\n",
              "CustomerID          5\n",
              "DiscountApplied     5\n",
              "TransactionDate     1\n",
              "TransactionID       0\n",
              "ProductID           0\n",
              "ProductCategory     0\n",
              "Quantity            0\n",
              "TrustPointsUsed     0\n",
              "dtype: int64"
            ],
            "text/html": [
              "<div>\n",
              "<style scoped>\n",
              "    .dataframe tbody tr th:only-of-type {\n",
              "        vertical-align: middle;\n",
              "    }\n",
              "\n",
              "    .dataframe tbody tr th {\n",
              "        vertical-align: top;\n",
              "    }\n",
              "\n",
              "    .dataframe thead th {\n",
              "        text-align: right;\n",
              "    }\n",
              "</style>\n",
              "<table border=\"1\" class=\"dataframe\">\n",
              "  <thead>\n",
              "    <tr style=\"text-align: right;\">\n",
              "      <th></th>\n",
              "      <th>0</th>\n",
              "    </tr>\n",
              "  </thead>\n",
              "  <tbody>\n",
              "    <tr>\n",
              "      <th>PricePerUnit</th>\n",
              "      <td>14</td>\n",
              "    </tr>\n",
              "    <tr>\n",
              "      <th>TotalAmount</th>\n",
              "      <td>14</td>\n",
              "    </tr>\n",
              "    <tr>\n",
              "      <th>PaymentMethod</th>\n",
              "      <td>10</td>\n",
              "    </tr>\n",
              "    <tr>\n",
              "      <th>CustomerID</th>\n",
              "      <td>5</td>\n",
              "    </tr>\n",
              "    <tr>\n",
              "      <th>DiscountApplied</th>\n",
              "      <td>5</td>\n",
              "    </tr>\n",
              "    <tr>\n",
              "      <th>TransactionDate</th>\n",
              "      <td>1</td>\n",
              "    </tr>\n",
              "    <tr>\n",
              "      <th>TransactionID</th>\n",
              "      <td>0</td>\n",
              "    </tr>\n",
              "    <tr>\n",
              "      <th>ProductID</th>\n",
              "      <td>0</td>\n",
              "    </tr>\n",
              "    <tr>\n",
              "      <th>ProductCategory</th>\n",
              "      <td>0</td>\n",
              "    </tr>\n",
              "    <tr>\n",
              "      <th>Quantity</th>\n",
              "      <td>0</td>\n",
              "    </tr>\n",
              "    <tr>\n",
              "      <th>TrustPointsUsed</th>\n",
              "      <td>0</td>\n",
              "    </tr>\n",
              "  </tbody>\n",
              "</table>\n",
              "</div><br><label><b>dtype:</b> int64</label>"
            ]
          },
          "metadata": {},
          "execution_count": 6
        }
      ]
    },
    {
      "cell_type": "markdown",
      "source": [
        "The dataset contains several missing values in CustomerID, TransactionDate, PricePerUnit, TotalAmount, PaymentMethod, and DiscountApplied. These will need to be addressed during preprocessing."
      ],
      "metadata": {
        "id": "P9SvvHZpTkBh"
      }
    },
    {
      "cell_type": "code",
      "source": [
        "df.head(10)"
      ],
      "metadata": {
        "colab": {
          "base_uri": "https://localhost:8080/",
          "height": 383
        },
        "id": "tn9gbzWkR0KT",
        "outputId": "d12876a9-aacf-46ae-bd06-ef0513d6cba9"
      },
      "execution_count": null,
      "outputs": [
        {
          "output_type": "execute_result",
          "data": {
            "text/plain": [
              "   TransactionID  CustomerID TransactionDate  ProductID ProductCategory  \\\n",
              "0              1      1002.0        8/8/2024       2008         Grocery   \n",
              "1              2         NaN        7/8/2024       2004      Home Decor   \n",
              "2              3      1004.0        2/8/2024       2002         Grocery   \n",
              "3              2      1003.0        7/8/2024       2001            Toys   \n",
              "4              5      1001.0        9/8/2024       2008         Grocery   \n",
              "5              6      1001.0             NaN       2007      Home Decor   \n",
              "6              7      1001.0        1/8/2024       2007      Home Decor   \n",
              "7              8      1005.0        4/8/2024       2006            Toys   \n",
              "8              9      1004.0        2/8/2024       2008         Fashion   \n",
              "9             10      1004.0        1/8/2024       2005         Fashion   \n",
              "\n",
              "   Quantity  PricePerUnit  TotalAmount  TrustPointsUsed PaymentMethod  \\\n",
              "0         1          10.0         10.0               20  Trust Points   \n",
              "1         1          10.0         10.0                0   Credit Card   \n",
              "2         3          30.0         90.0                0   Credit Card   \n",
              "3         2          30.0         60.0               50           NaN   \n",
              "4         1           NaN          NaN               20  Trust Points   \n",
              "5         1           NaN          NaN               20   Credit Card   \n",
              "6        -1          30.0        -30.0              -10           NaN   \n",
              "7         1          50.0         50.0              -10  Trust Points   \n",
              "8         1           NaN          NaN              -10           NaN   \n",
              "9         2         500.0       1000.0              -10          Cash   \n",
              "\n",
              "   DiscountApplied  \n",
              "0              5.0  \n",
              "1             20.0  \n",
              "2             25.0  \n",
              "3             20.0  \n",
              "4              5.0  \n",
              "5              NaN  \n",
              "6              NaN  \n",
              "7             30.0  \n",
              "8              NaN  \n",
              "9             30.0  "
            ],
            "text/html": [
              "\n",
              "  <div id=\"df-6d3bcd26-7a6c-4c2b-9d98-0cb1ac4aae5a\" class=\"colab-df-container\">\n",
              "    <div>\n",
              "<style scoped>\n",
              "    .dataframe tbody tr th:only-of-type {\n",
              "        vertical-align: middle;\n",
              "    }\n",
              "\n",
              "    .dataframe tbody tr th {\n",
              "        vertical-align: top;\n",
              "    }\n",
              "\n",
              "    .dataframe thead th {\n",
              "        text-align: right;\n",
              "    }\n",
              "</style>\n",
              "<table border=\"1\" class=\"dataframe\">\n",
              "  <thead>\n",
              "    <tr style=\"text-align: right;\">\n",
              "      <th></th>\n",
              "      <th>TransactionID</th>\n",
              "      <th>CustomerID</th>\n",
              "      <th>TransactionDate</th>\n",
              "      <th>ProductID</th>\n",
              "      <th>ProductCategory</th>\n",
              "      <th>Quantity</th>\n",
              "      <th>PricePerUnit</th>\n",
              "      <th>TotalAmount</th>\n",
              "      <th>TrustPointsUsed</th>\n",
              "      <th>PaymentMethod</th>\n",
              "      <th>DiscountApplied</th>\n",
              "    </tr>\n",
              "  </thead>\n",
              "  <tbody>\n",
              "    <tr>\n",
              "      <th>0</th>\n",
              "      <td>1</td>\n",
              "      <td>1002.0</td>\n",
              "      <td>8/8/2024</td>\n",
              "      <td>2008</td>\n",
              "      <td>Grocery</td>\n",
              "      <td>1</td>\n",
              "      <td>10.0</td>\n",
              "      <td>10.0</td>\n",
              "      <td>20</td>\n",
              "      <td>Trust Points</td>\n",
              "      <td>5.0</td>\n",
              "    </tr>\n",
              "    <tr>\n",
              "      <th>1</th>\n",
              "      <td>2</td>\n",
              "      <td>NaN</td>\n",
              "      <td>7/8/2024</td>\n",
              "      <td>2004</td>\n",
              "      <td>Home Decor</td>\n",
              "      <td>1</td>\n",
              "      <td>10.0</td>\n",
              "      <td>10.0</td>\n",
              "      <td>0</td>\n",
              "      <td>Credit Card</td>\n",
              "      <td>20.0</td>\n",
              "    </tr>\n",
              "    <tr>\n",
              "      <th>2</th>\n",
              "      <td>3</td>\n",
              "      <td>1004.0</td>\n",
              "      <td>2/8/2024</td>\n",
              "      <td>2002</td>\n",
              "      <td>Grocery</td>\n",
              "      <td>3</td>\n",
              "      <td>30.0</td>\n",
              "      <td>90.0</td>\n",
              "      <td>0</td>\n",
              "      <td>Credit Card</td>\n",
              "      <td>25.0</td>\n",
              "    </tr>\n",
              "    <tr>\n",
              "      <th>3</th>\n",
              "      <td>2</td>\n",
              "      <td>1003.0</td>\n",
              "      <td>7/8/2024</td>\n",
              "      <td>2001</td>\n",
              "      <td>Toys</td>\n",
              "      <td>2</td>\n",
              "      <td>30.0</td>\n",
              "      <td>60.0</td>\n",
              "      <td>50</td>\n",
              "      <td>NaN</td>\n",
              "      <td>20.0</td>\n",
              "    </tr>\n",
              "    <tr>\n",
              "      <th>4</th>\n",
              "      <td>5</td>\n",
              "      <td>1001.0</td>\n",
              "      <td>9/8/2024</td>\n",
              "      <td>2008</td>\n",
              "      <td>Grocery</td>\n",
              "      <td>1</td>\n",
              "      <td>NaN</td>\n",
              "      <td>NaN</td>\n",
              "      <td>20</td>\n",
              "      <td>Trust Points</td>\n",
              "      <td>5.0</td>\n",
              "    </tr>\n",
              "    <tr>\n",
              "      <th>5</th>\n",
              "      <td>6</td>\n",
              "      <td>1001.0</td>\n",
              "      <td>NaN</td>\n",
              "      <td>2007</td>\n",
              "      <td>Home Decor</td>\n",
              "      <td>1</td>\n",
              "      <td>NaN</td>\n",
              "      <td>NaN</td>\n",
              "      <td>20</td>\n",
              "      <td>Credit Card</td>\n",
              "      <td>NaN</td>\n",
              "    </tr>\n",
              "    <tr>\n",
              "      <th>6</th>\n",
              "      <td>7</td>\n",
              "      <td>1001.0</td>\n",
              "      <td>1/8/2024</td>\n",
              "      <td>2007</td>\n",
              "      <td>Home Decor</td>\n",
              "      <td>-1</td>\n",
              "      <td>30.0</td>\n",
              "      <td>-30.0</td>\n",
              "      <td>-10</td>\n",
              "      <td>NaN</td>\n",
              "      <td>NaN</td>\n",
              "    </tr>\n",
              "    <tr>\n",
              "      <th>7</th>\n",
              "      <td>8</td>\n",
              "      <td>1005.0</td>\n",
              "      <td>4/8/2024</td>\n",
              "      <td>2006</td>\n",
              "      <td>Toys</td>\n",
              "      <td>1</td>\n",
              "      <td>50.0</td>\n",
              "      <td>50.0</td>\n",
              "      <td>-10</td>\n",
              "      <td>Trust Points</td>\n",
              "      <td>30.0</td>\n",
              "    </tr>\n",
              "    <tr>\n",
              "      <th>8</th>\n",
              "      <td>9</td>\n",
              "      <td>1004.0</td>\n",
              "      <td>2/8/2024</td>\n",
              "      <td>2008</td>\n",
              "      <td>Fashion</td>\n",
              "      <td>1</td>\n",
              "      <td>NaN</td>\n",
              "      <td>NaN</td>\n",
              "      <td>-10</td>\n",
              "      <td>NaN</td>\n",
              "      <td>NaN</td>\n",
              "    </tr>\n",
              "    <tr>\n",
              "      <th>9</th>\n",
              "      <td>10</td>\n",
              "      <td>1004.0</td>\n",
              "      <td>1/8/2024</td>\n",
              "      <td>2005</td>\n",
              "      <td>Fashion</td>\n",
              "      <td>2</td>\n",
              "      <td>500.0</td>\n",
              "      <td>1000.0</td>\n",
              "      <td>-10</td>\n",
              "      <td>Cash</td>\n",
              "      <td>30.0</td>\n",
              "    </tr>\n",
              "  </tbody>\n",
              "</table>\n",
              "</div>\n",
              "    <div class=\"colab-df-buttons\">\n",
              "\n",
              "  <div class=\"colab-df-container\">\n",
              "    <button class=\"colab-df-convert\" onclick=\"convertToInteractive('df-6d3bcd26-7a6c-4c2b-9d98-0cb1ac4aae5a')\"\n",
              "            title=\"Convert this dataframe to an interactive table.\"\n",
              "            style=\"display:none;\">\n",
              "\n",
              "  <svg xmlns=\"http://www.w3.org/2000/svg\" height=\"24px\" viewBox=\"0 -960 960 960\">\n",
              "    <path d=\"M120-120v-720h720v720H120Zm60-500h600v-160H180v160Zm220 220h160v-160H400v160Zm0 220h160v-160H400v160ZM180-400h160v-160H180v160Zm440 0h160v-160H620v160ZM180-180h160v-160H180v160Zm440 0h160v-160H620v160Z\"/>\n",
              "  </svg>\n",
              "    </button>\n",
              "\n",
              "  <style>\n",
              "    .colab-df-container {\n",
              "      display:flex;\n",
              "      gap: 12px;\n",
              "    }\n",
              "\n",
              "    .colab-df-convert {\n",
              "      background-color: #E8F0FE;\n",
              "      border: none;\n",
              "      border-radius: 50%;\n",
              "      cursor: pointer;\n",
              "      display: none;\n",
              "      fill: #1967D2;\n",
              "      height: 32px;\n",
              "      padding: 0 0 0 0;\n",
              "      width: 32px;\n",
              "    }\n",
              "\n",
              "    .colab-df-convert:hover {\n",
              "      background-color: #E2EBFA;\n",
              "      box-shadow: 0px 1px 2px rgba(60, 64, 67, 0.3), 0px 1px 3px 1px rgba(60, 64, 67, 0.15);\n",
              "      fill: #174EA6;\n",
              "    }\n",
              "\n",
              "    .colab-df-buttons div {\n",
              "      margin-bottom: 4px;\n",
              "    }\n",
              "\n",
              "    [theme=dark] .colab-df-convert {\n",
              "      background-color: #3B4455;\n",
              "      fill: #D2E3FC;\n",
              "    }\n",
              "\n",
              "    [theme=dark] .colab-df-convert:hover {\n",
              "      background-color: #434B5C;\n",
              "      box-shadow: 0px 1px 3px 1px rgba(0, 0, 0, 0.15);\n",
              "      filter: drop-shadow(0px 1px 2px rgba(0, 0, 0, 0.3));\n",
              "      fill: #FFFFFF;\n",
              "    }\n",
              "  </style>\n",
              "\n",
              "    <script>\n",
              "      const buttonEl =\n",
              "        document.querySelector('#df-6d3bcd26-7a6c-4c2b-9d98-0cb1ac4aae5a button.colab-df-convert');\n",
              "      buttonEl.style.display =\n",
              "        google.colab.kernel.accessAllowed ? 'block' : 'none';\n",
              "\n",
              "      async function convertToInteractive(key) {\n",
              "        const element = document.querySelector('#df-6d3bcd26-7a6c-4c2b-9d98-0cb1ac4aae5a');\n",
              "        const dataTable =\n",
              "          await google.colab.kernel.invokeFunction('convertToInteractive',\n",
              "                                                    [key], {});\n",
              "        if (!dataTable) return;\n",
              "\n",
              "        const docLinkHtml = 'Like what you see? Visit the ' +\n",
              "          '<a target=\"_blank\" href=https://colab.research.google.com/notebooks/data_table.ipynb>data table notebook</a>'\n",
              "          + ' to learn more about interactive tables.';\n",
              "        element.innerHTML = '';\n",
              "        dataTable['output_type'] = 'display_data';\n",
              "        await google.colab.output.renderOutput(dataTable, element);\n",
              "        const docLink = document.createElement('div');\n",
              "        docLink.innerHTML = docLinkHtml;\n",
              "        element.appendChild(docLink);\n",
              "      }\n",
              "    </script>\n",
              "  </div>\n",
              "\n",
              "\n",
              "<div id=\"df-0edf768a-8539-45d4-beef-0c234d1a84da\">\n",
              "  <button class=\"colab-df-quickchart\" onclick=\"quickchart('df-0edf768a-8539-45d4-beef-0c234d1a84da')\"\n",
              "            title=\"Suggest charts\"\n",
              "            style=\"display:none;\">\n",
              "\n",
              "<svg xmlns=\"http://www.w3.org/2000/svg\" height=\"24px\"viewBox=\"0 0 24 24\"\n",
              "     width=\"24px\">\n",
              "    <g>\n",
              "        <path d=\"M19 3H5c-1.1 0-2 .9-2 2v14c0 1.1.9 2 2 2h14c1.1 0 2-.9 2-2V5c0-1.1-.9-2-2-2zM9 17H7v-7h2v7zm4 0h-2V7h2v10zm4 0h-2v-4h2v4z\"/>\n",
              "    </g>\n",
              "</svg>\n",
              "  </button>\n",
              "\n",
              "<style>\n",
              "  .colab-df-quickchart {\n",
              "      --bg-color: #E8F0FE;\n",
              "      --fill-color: #1967D2;\n",
              "      --hover-bg-color: #E2EBFA;\n",
              "      --hover-fill-color: #174EA6;\n",
              "      --disabled-fill-color: #AAA;\n",
              "      --disabled-bg-color: #DDD;\n",
              "  }\n",
              "\n",
              "  [theme=dark] .colab-df-quickchart {\n",
              "      --bg-color: #3B4455;\n",
              "      --fill-color: #D2E3FC;\n",
              "      --hover-bg-color: #434B5C;\n",
              "      --hover-fill-color: #FFFFFF;\n",
              "      --disabled-bg-color: #3B4455;\n",
              "      --disabled-fill-color: #666;\n",
              "  }\n",
              "\n",
              "  .colab-df-quickchart {\n",
              "    background-color: var(--bg-color);\n",
              "    border: none;\n",
              "    border-radius: 50%;\n",
              "    cursor: pointer;\n",
              "    display: none;\n",
              "    fill: var(--fill-color);\n",
              "    height: 32px;\n",
              "    padding: 0;\n",
              "    width: 32px;\n",
              "  }\n",
              "\n",
              "  .colab-df-quickchart:hover {\n",
              "    background-color: var(--hover-bg-color);\n",
              "    box-shadow: 0 1px 2px rgba(60, 64, 67, 0.3), 0 1px 3px 1px rgba(60, 64, 67, 0.15);\n",
              "    fill: var(--button-hover-fill-color);\n",
              "  }\n",
              "\n",
              "  .colab-df-quickchart-complete:disabled,\n",
              "  .colab-df-quickchart-complete:disabled:hover {\n",
              "    background-color: var(--disabled-bg-color);\n",
              "    fill: var(--disabled-fill-color);\n",
              "    box-shadow: none;\n",
              "  }\n",
              "\n",
              "  .colab-df-spinner {\n",
              "    border: 2px solid var(--fill-color);\n",
              "    border-color: transparent;\n",
              "    border-bottom-color: var(--fill-color);\n",
              "    animation:\n",
              "      spin 1s steps(1) infinite;\n",
              "  }\n",
              "\n",
              "  @keyframes spin {\n",
              "    0% {\n",
              "      border-color: transparent;\n",
              "      border-bottom-color: var(--fill-color);\n",
              "      border-left-color: var(--fill-color);\n",
              "    }\n",
              "    20% {\n",
              "      border-color: transparent;\n",
              "      border-left-color: var(--fill-color);\n",
              "      border-top-color: var(--fill-color);\n",
              "    }\n",
              "    30% {\n",
              "      border-color: transparent;\n",
              "      border-left-color: var(--fill-color);\n",
              "      border-top-color: var(--fill-color);\n",
              "      border-right-color: var(--fill-color);\n",
              "    }\n",
              "    40% {\n",
              "      border-color: transparent;\n",
              "      border-right-color: var(--fill-color);\n",
              "      border-top-color: var(--fill-color);\n",
              "    }\n",
              "    60% {\n",
              "      border-color: transparent;\n",
              "      border-right-color: var(--fill-color);\n",
              "    }\n",
              "    80% {\n",
              "      border-color: transparent;\n",
              "      border-right-color: var(--fill-color);\n",
              "      border-bottom-color: var(--fill-color);\n",
              "    }\n",
              "    90% {\n",
              "      border-color: transparent;\n",
              "      border-bottom-color: var(--fill-color);\n",
              "    }\n",
              "  }\n",
              "</style>\n",
              "\n",
              "  <script>\n",
              "    async function quickchart(key) {\n",
              "      const quickchartButtonEl =\n",
              "        document.querySelector('#' + key + ' button');\n",
              "      quickchartButtonEl.disabled = true;  // To prevent multiple clicks.\n",
              "      quickchartButtonEl.classList.add('colab-df-spinner');\n",
              "      try {\n",
              "        const charts = await google.colab.kernel.invokeFunction(\n",
              "            'suggestCharts', [key], {});\n",
              "      } catch (error) {\n",
              "        console.error('Error during call to suggestCharts:', error);\n",
              "      }\n",
              "      quickchartButtonEl.classList.remove('colab-df-spinner');\n",
              "      quickchartButtonEl.classList.add('colab-df-quickchart-complete');\n",
              "    }\n",
              "    (() => {\n",
              "      let quickchartButtonEl =\n",
              "        document.querySelector('#df-0edf768a-8539-45d4-beef-0c234d1a84da button');\n",
              "      quickchartButtonEl.style.display =\n",
              "        google.colab.kernel.accessAllowed ? 'block' : 'none';\n",
              "    })();\n",
              "  </script>\n",
              "</div>\n",
              "\n",
              "    </div>\n",
              "  </div>\n"
            ],
            "application/vnd.google.colaboratory.intrinsic+json": {
              "type": "dataframe",
              "variable_name": "df",
              "summary": "{\n  \"name\": \"df\",\n  \"rows\": 50,\n  \"fields\": [\n    {\n      \"column\": \"TransactionID\",\n      \"properties\": {\n        \"dtype\": \"number\",\n        \"std\": 14,\n        \"min\": 1,\n        \"max\": 50,\n        \"num_unique_values\": 49,\n        \"samples\": [\n          15,\n          47,\n          49\n        ],\n        \"semantic_type\": \"\",\n        \"description\": \"\"\n      }\n    },\n    {\n      \"column\": \"CustomerID\",\n      \"properties\": {\n        \"dtype\": \"number\",\n        \"std\": 1.3065491598369758,\n        \"min\": 1001.0,\n        \"max\": 1005.0,\n        \"num_unique_values\": 5,\n        \"samples\": [\n          1004.0,\n          1005.0,\n          1003.0\n        ],\n        \"semantic_type\": \"\",\n        \"description\": \"\"\n      }\n    },\n    {\n      \"column\": \"TransactionDate\",\n      \"properties\": {\n        \"dtype\": \"object\",\n        \"num_unique_values\": 10,\n        \"samples\": [\n          \"10/8/2024\",\n          \"7/8/2024\",\n          \"4/8/2024\"\n        ],\n        \"semantic_type\": \"\",\n        \"description\": \"\"\n      }\n    },\n    {\n      \"column\": \"ProductID\",\n      \"properties\": {\n        \"dtype\": \"number\",\n        \"std\": 2,\n        \"min\": 2001,\n        \"max\": 2008,\n        \"num_unique_values\": 8,\n        \"samples\": [\n          2004,\n          2006,\n          2008\n        ],\n        \"semantic_type\": \"\",\n        \"description\": \"\"\n      }\n    },\n    {\n      \"column\": \"ProductCategory\",\n      \"properties\": {\n        \"dtype\": \"category\",\n        \"num_unique_values\": 5,\n        \"samples\": [\n          \"Home Decor\",\n          \"Electronics\",\n          \"Toys\"\n        ],\n        \"semantic_type\": \"\",\n        \"description\": \"\"\n      }\n    },\n    {\n      \"column\": \"Quantity\",\n      \"properties\": {\n        \"dtype\": \"number\",\n        \"std\": 1,\n        \"min\": -1,\n        \"max\": 5,\n        \"num_unique_values\": 6,\n        \"samples\": [\n          1,\n          3,\n          0\n        ],\n        \"semantic_type\": \"\",\n        \"description\": \"\"\n      }\n    },\n    {\n      \"column\": \"PricePerUnit\",\n      \"properties\": {\n        \"dtype\": \"number\",\n        \"std\": 188.29287386729843,\n        \"min\": 10.0,\n        \"max\": 500.0,\n        \"num_unique_values\": 6,\n        \"samples\": [\n          10.0,\n          30.0,\n          20.0\n        ],\n        \"semantic_type\": \"\",\n        \"description\": \"\"\n      }\n    },\n    {\n      \"column\": \"TotalAmount\",\n      \"properties\": {\n        \"dtype\": \"number\",\n        \"std\": 351.59624661665634,\n        \"min\": -500.0,\n        \"max\": 1500.0,\n        \"num_unique_values\": 16,\n        \"samples\": [\n          10.0,\n          90.0,\n          1000.0\n        ],\n        \"semantic_type\": \"\",\n        \"description\": \"\"\n      }\n    },\n    {\n      \"column\": \"TrustPointsUsed\",\n      \"properties\": {\n        \"dtype\": \"number\",\n        \"std\": 39,\n        \"min\": -10,\n        \"max\": 100,\n        \"num_unique_values\": 6,\n        \"samples\": [\n          20,\n          0,\n          10\n        ],\n        \"semantic_type\": \"\",\n        \"description\": \"\"\n      }\n    },\n    {\n      \"column\": \"PaymentMethod\",\n      \"properties\": {\n        \"dtype\": \"category\",\n        \"num_unique_values\": 3,\n        \"samples\": [\n          \"Trust Points\",\n          \"Credit Card\",\n          \"Cash\"\n        ],\n        \"semantic_type\": \"\",\n        \"description\": \"\"\n      }\n    },\n    {\n      \"column\": \"DiscountApplied\",\n      \"properties\": {\n        \"dtype\": \"number\",\n        \"std\": 13.853490243227224,\n        \"min\": 5.0,\n        \"max\": 50.0,\n        \"num_unique_values\": 7,\n        \"samples\": [\n          5.0,\n          20.0,\n          50.0\n        ],\n        \"semantic_type\": \"\",\n        \"description\": \"\"\n      }\n    }\n  ]\n}"
            }
          },
          "metadata": {},
          "execution_count": 7
        }
      ]
    },
    {
      "cell_type": "markdown",
      "source": [
        "TotalAmount should logically be (Quantity * PricePerUnit) - DiscountApplied. We need to validate these fields to ensure data integrity."
      ],
      "metadata": {
        "id": "Z_K--b5tUohq"
      }
    },
    {
      "cell_type": "markdown",
      "source": [
        "**Data Preprocessing**"
      ],
      "metadata": {
        "id": "pZj_55tmVA1Q"
      }
    },
    {
      "cell_type": "markdown",
      "source": [
        "**Handling Missing Values:**"
      ],
      "metadata": {
        "id": "dnvjIuyLVNKW"
      }
    },
    {
      "cell_type": "markdown",
      "source": [
        "1. Most number of missing values are in PricePerUnit and TotalAmount.If we fill missing values in PricePerUnit then we can calculate TotalAmount based on PricePerUnit and Quantity.\n",
        "2.We can fetch PricePerUnit based on ProductId available in other records of data."
      ],
      "metadata": {
        "id": "6Ggaqo7eVdMa"
      }
    },
    {
      "cell_type": "code",
      "source": [
        "df[['ProductID','ProductCategory','PricePerUnit']].sort_values(by='ProductID')"
      ],
      "metadata": {
        "colab": {
          "base_uri": "https://localhost:8080/",
          "height": 1000
        },
        "id": "DioVVl3-2f26",
        "outputId": "5e443dd3-c584-424c-d704-b58aa9783ec7"
      },
      "execution_count": null,
      "outputs": [
        {
          "output_type": "execute_result",
          "data": {
            "text/plain": [
              "    ProductID ProductCategory  PricePerUnit\n",
              "16       2001            Toys           NaN\n",
              "30       2001      Home Decor           NaN\n",
              "22       2001     Electronics          30.0\n",
              "3        2001            Toys          30.0\n",
              "41       2001     Electronics          50.0\n",
              "34       2002     Electronics         500.0\n",
              "24       2002     Electronics         500.0\n",
              "33       2002         Grocery          20.0\n",
              "2        2002         Grocery          30.0\n",
              "29       2003     Electronics          20.0\n",
              "21       2003     Electronics         500.0\n",
              "17       2003            Toys          50.0\n",
              "15       2003            Toys          10.0\n",
              "14       2003            Toys          30.0\n",
              "37       2003            Toys         100.0\n",
              "10       2003         Grocery           NaN\n",
              "42       2004     Electronics          10.0\n",
              "11       2004     Electronics          10.0\n",
              "45       2004            Toys           NaN\n",
              "35       2004      Home Decor          30.0\n",
              "1        2004      Home Decor          10.0\n",
              "36       2005         Fashion           NaN\n",
              "18       2005      Home Decor         500.0\n",
              "47       2005      Home Decor           NaN\n",
              "9        2005         Fashion         500.0\n",
              "23       2005     Electronics           NaN\n",
              "43       2005         Fashion         500.0\n",
              "7        2006            Toys          50.0\n",
              "46       2006         Fashion          50.0\n",
              "13       2006            Toys          50.0\n",
              "27       2006            Toys          10.0\n",
              "20       2006            Toys          50.0\n",
              "38       2007      Home Decor          10.0\n",
              "40       2007            Toys          10.0\n",
              "49       2007         Grocery           NaN\n",
              "31       2007      Home Decor         500.0\n",
              "28       2007         Grocery         100.0\n",
              "26       2007     Electronics          30.0\n",
              "25       2007      Home Decor          10.0\n",
              "48       2007     Electronics           NaN\n",
              "19       2007         Fashion           NaN\n",
              "6        2007      Home Decor          30.0\n",
              "5        2007      Home Decor           NaN\n",
              "32       2007     Electronics          20.0\n",
              "39       2008     Electronics          50.0\n",
              "12       2008         Grocery           NaN\n",
              "8        2008         Fashion           NaN\n",
              "44       2008            Toys         100.0\n",
              "4        2008         Grocery           NaN\n",
              "0        2008         Grocery          10.0"
            ],
            "text/html": [
              "\n",
              "  <div id=\"df-9f25a124-9d34-45ab-b078-c7185fa6d092\" class=\"colab-df-container\">\n",
              "    <div>\n",
              "<style scoped>\n",
              "    .dataframe tbody tr th:only-of-type {\n",
              "        vertical-align: middle;\n",
              "    }\n",
              "\n",
              "    .dataframe tbody tr th {\n",
              "        vertical-align: top;\n",
              "    }\n",
              "\n",
              "    .dataframe thead th {\n",
              "        text-align: right;\n",
              "    }\n",
              "</style>\n",
              "<table border=\"1\" class=\"dataframe\">\n",
              "  <thead>\n",
              "    <tr style=\"text-align: right;\">\n",
              "      <th></th>\n",
              "      <th>ProductID</th>\n",
              "      <th>ProductCategory</th>\n",
              "      <th>PricePerUnit</th>\n",
              "    </tr>\n",
              "  </thead>\n",
              "  <tbody>\n",
              "    <tr>\n",
              "      <th>16</th>\n",
              "      <td>2001</td>\n",
              "      <td>Toys</td>\n",
              "      <td>NaN</td>\n",
              "    </tr>\n",
              "    <tr>\n",
              "      <th>30</th>\n",
              "      <td>2001</td>\n",
              "      <td>Home Decor</td>\n",
              "      <td>NaN</td>\n",
              "    </tr>\n",
              "    <tr>\n",
              "      <th>22</th>\n",
              "      <td>2001</td>\n",
              "      <td>Electronics</td>\n",
              "      <td>30.0</td>\n",
              "    </tr>\n",
              "    <tr>\n",
              "      <th>3</th>\n",
              "      <td>2001</td>\n",
              "      <td>Toys</td>\n",
              "      <td>30.0</td>\n",
              "    </tr>\n",
              "    <tr>\n",
              "      <th>41</th>\n",
              "      <td>2001</td>\n",
              "      <td>Electronics</td>\n",
              "      <td>50.0</td>\n",
              "    </tr>\n",
              "    <tr>\n",
              "      <th>34</th>\n",
              "      <td>2002</td>\n",
              "      <td>Electronics</td>\n",
              "      <td>500.0</td>\n",
              "    </tr>\n",
              "    <tr>\n",
              "      <th>24</th>\n",
              "      <td>2002</td>\n",
              "      <td>Electronics</td>\n",
              "      <td>500.0</td>\n",
              "    </tr>\n",
              "    <tr>\n",
              "      <th>33</th>\n",
              "      <td>2002</td>\n",
              "      <td>Grocery</td>\n",
              "      <td>20.0</td>\n",
              "    </tr>\n",
              "    <tr>\n",
              "      <th>2</th>\n",
              "      <td>2002</td>\n",
              "      <td>Grocery</td>\n",
              "      <td>30.0</td>\n",
              "    </tr>\n",
              "    <tr>\n",
              "      <th>29</th>\n",
              "      <td>2003</td>\n",
              "      <td>Electronics</td>\n",
              "      <td>20.0</td>\n",
              "    </tr>\n",
              "    <tr>\n",
              "      <th>21</th>\n",
              "      <td>2003</td>\n",
              "      <td>Electronics</td>\n",
              "      <td>500.0</td>\n",
              "    </tr>\n",
              "    <tr>\n",
              "      <th>17</th>\n",
              "      <td>2003</td>\n",
              "      <td>Toys</td>\n",
              "      <td>50.0</td>\n",
              "    </tr>\n",
              "    <tr>\n",
              "      <th>15</th>\n",
              "      <td>2003</td>\n",
              "      <td>Toys</td>\n",
              "      <td>10.0</td>\n",
              "    </tr>\n",
              "    <tr>\n",
              "      <th>14</th>\n",
              "      <td>2003</td>\n",
              "      <td>Toys</td>\n",
              "      <td>30.0</td>\n",
              "    </tr>\n",
              "    <tr>\n",
              "      <th>37</th>\n",
              "      <td>2003</td>\n",
              "      <td>Toys</td>\n",
              "      <td>100.0</td>\n",
              "    </tr>\n",
              "    <tr>\n",
              "      <th>10</th>\n",
              "      <td>2003</td>\n",
              "      <td>Grocery</td>\n",
              "      <td>NaN</td>\n",
              "    </tr>\n",
              "    <tr>\n",
              "      <th>42</th>\n",
              "      <td>2004</td>\n",
              "      <td>Electronics</td>\n",
              "      <td>10.0</td>\n",
              "    </tr>\n",
              "    <tr>\n",
              "      <th>11</th>\n",
              "      <td>2004</td>\n",
              "      <td>Electronics</td>\n",
              "      <td>10.0</td>\n",
              "    </tr>\n",
              "    <tr>\n",
              "      <th>45</th>\n",
              "      <td>2004</td>\n",
              "      <td>Toys</td>\n",
              "      <td>NaN</td>\n",
              "    </tr>\n",
              "    <tr>\n",
              "      <th>35</th>\n",
              "      <td>2004</td>\n",
              "      <td>Home Decor</td>\n",
              "      <td>30.0</td>\n",
              "    </tr>\n",
              "    <tr>\n",
              "      <th>1</th>\n",
              "      <td>2004</td>\n",
              "      <td>Home Decor</td>\n",
              "      <td>10.0</td>\n",
              "    </tr>\n",
              "    <tr>\n",
              "      <th>36</th>\n",
              "      <td>2005</td>\n",
              "      <td>Fashion</td>\n",
              "      <td>NaN</td>\n",
              "    </tr>\n",
              "    <tr>\n",
              "      <th>18</th>\n",
              "      <td>2005</td>\n",
              "      <td>Home Decor</td>\n",
              "      <td>500.0</td>\n",
              "    </tr>\n",
              "    <tr>\n",
              "      <th>47</th>\n",
              "      <td>2005</td>\n",
              "      <td>Home Decor</td>\n",
              "      <td>NaN</td>\n",
              "    </tr>\n",
              "    <tr>\n",
              "      <th>9</th>\n",
              "      <td>2005</td>\n",
              "      <td>Fashion</td>\n",
              "      <td>500.0</td>\n",
              "    </tr>\n",
              "    <tr>\n",
              "      <th>23</th>\n",
              "      <td>2005</td>\n",
              "      <td>Electronics</td>\n",
              "      <td>NaN</td>\n",
              "    </tr>\n",
              "    <tr>\n",
              "      <th>43</th>\n",
              "      <td>2005</td>\n",
              "      <td>Fashion</td>\n",
              "      <td>500.0</td>\n",
              "    </tr>\n",
              "    <tr>\n",
              "      <th>7</th>\n",
              "      <td>2006</td>\n",
              "      <td>Toys</td>\n",
              "      <td>50.0</td>\n",
              "    </tr>\n",
              "    <tr>\n",
              "      <th>46</th>\n",
              "      <td>2006</td>\n",
              "      <td>Fashion</td>\n",
              "      <td>50.0</td>\n",
              "    </tr>\n",
              "    <tr>\n",
              "      <th>13</th>\n",
              "      <td>2006</td>\n",
              "      <td>Toys</td>\n",
              "      <td>50.0</td>\n",
              "    </tr>\n",
              "    <tr>\n",
              "      <th>27</th>\n",
              "      <td>2006</td>\n",
              "      <td>Toys</td>\n",
              "      <td>10.0</td>\n",
              "    </tr>\n",
              "    <tr>\n",
              "      <th>20</th>\n",
              "      <td>2006</td>\n",
              "      <td>Toys</td>\n",
              "      <td>50.0</td>\n",
              "    </tr>\n",
              "    <tr>\n",
              "      <th>38</th>\n",
              "      <td>2007</td>\n",
              "      <td>Home Decor</td>\n",
              "      <td>10.0</td>\n",
              "    </tr>\n",
              "    <tr>\n",
              "      <th>40</th>\n",
              "      <td>2007</td>\n",
              "      <td>Toys</td>\n",
              "      <td>10.0</td>\n",
              "    </tr>\n",
              "    <tr>\n",
              "      <th>49</th>\n",
              "      <td>2007</td>\n",
              "      <td>Grocery</td>\n",
              "      <td>NaN</td>\n",
              "    </tr>\n",
              "    <tr>\n",
              "      <th>31</th>\n",
              "      <td>2007</td>\n",
              "      <td>Home Decor</td>\n",
              "      <td>500.0</td>\n",
              "    </tr>\n",
              "    <tr>\n",
              "      <th>28</th>\n",
              "      <td>2007</td>\n",
              "      <td>Grocery</td>\n",
              "      <td>100.0</td>\n",
              "    </tr>\n",
              "    <tr>\n",
              "      <th>26</th>\n",
              "      <td>2007</td>\n",
              "      <td>Electronics</td>\n",
              "      <td>30.0</td>\n",
              "    </tr>\n",
              "    <tr>\n",
              "      <th>25</th>\n",
              "      <td>2007</td>\n",
              "      <td>Home Decor</td>\n",
              "      <td>10.0</td>\n",
              "    </tr>\n",
              "    <tr>\n",
              "      <th>48</th>\n",
              "      <td>2007</td>\n",
              "      <td>Electronics</td>\n",
              "      <td>NaN</td>\n",
              "    </tr>\n",
              "    <tr>\n",
              "      <th>19</th>\n",
              "      <td>2007</td>\n",
              "      <td>Fashion</td>\n",
              "      <td>NaN</td>\n",
              "    </tr>\n",
              "    <tr>\n",
              "      <th>6</th>\n",
              "      <td>2007</td>\n",
              "      <td>Home Decor</td>\n",
              "      <td>30.0</td>\n",
              "    </tr>\n",
              "    <tr>\n",
              "      <th>5</th>\n",
              "      <td>2007</td>\n",
              "      <td>Home Decor</td>\n",
              "      <td>NaN</td>\n",
              "    </tr>\n",
              "    <tr>\n",
              "      <th>32</th>\n",
              "      <td>2007</td>\n",
              "      <td>Electronics</td>\n",
              "      <td>20.0</td>\n",
              "    </tr>\n",
              "    <tr>\n",
              "      <th>39</th>\n",
              "      <td>2008</td>\n",
              "      <td>Electronics</td>\n",
              "      <td>50.0</td>\n",
              "    </tr>\n",
              "    <tr>\n",
              "      <th>12</th>\n",
              "      <td>2008</td>\n",
              "      <td>Grocery</td>\n",
              "      <td>NaN</td>\n",
              "    </tr>\n",
              "    <tr>\n",
              "      <th>8</th>\n",
              "      <td>2008</td>\n",
              "      <td>Fashion</td>\n",
              "      <td>NaN</td>\n",
              "    </tr>\n",
              "    <tr>\n",
              "      <th>44</th>\n",
              "      <td>2008</td>\n",
              "      <td>Toys</td>\n",
              "      <td>100.0</td>\n",
              "    </tr>\n",
              "    <tr>\n",
              "      <th>4</th>\n",
              "      <td>2008</td>\n",
              "      <td>Grocery</td>\n",
              "      <td>NaN</td>\n",
              "    </tr>\n",
              "    <tr>\n",
              "      <th>0</th>\n",
              "      <td>2008</td>\n",
              "      <td>Grocery</td>\n",
              "      <td>10.0</td>\n",
              "    </tr>\n",
              "  </tbody>\n",
              "</table>\n",
              "</div>\n",
              "    <div class=\"colab-df-buttons\">\n",
              "\n",
              "  <div class=\"colab-df-container\">\n",
              "    <button class=\"colab-df-convert\" onclick=\"convertToInteractive('df-9f25a124-9d34-45ab-b078-c7185fa6d092')\"\n",
              "            title=\"Convert this dataframe to an interactive table.\"\n",
              "            style=\"display:none;\">\n",
              "\n",
              "  <svg xmlns=\"http://www.w3.org/2000/svg\" height=\"24px\" viewBox=\"0 -960 960 960\">\n",
              "    <path d=\"M120-120v-720h720v720H120Zm60-500h600v-160H180v160Zm220 220h160v-160H400v160Zm0 220h160v-160H400v160ZM180-400h160v-160H180v160Zm440 0h160v-160H620v160ZM180-180h160v-160H180v160Zm440 0h160v-160H620v160Z\"/>\n",
              "  </svg>\n",
              "    </button>\n",
              "\n",
              "  <style>\n",
              "    .colab-df-container {\n",
              "      display:flex;\n",
              "      gap: 12px;\n",
              "    }\n",
              "\n",
              "    .colab-df-convert {\n",
              "      background-color: #E8F0FE;\n",
              "      border: none;\n",
              "      border-radius: 50%;\n",
              "      cursor: pointer;\n",
              "      display: none;\n",
              "      fill: #1967D2;\n",
              "      height: 32px;\n",
              "      padding: 0 0 0 0;\n",
              "      width: 32px;\n",
              "    }\n",
              "\n",
              "    .colab-df-convert:hover {\n",
              "      background-color: #E2EBFA;\n",
              "      box-shadow: 0px 1px 2px rgba(60, 64, 67, 0.3), 0px 1px 3px 1px rgba(60, 64, 67, 0.15);\n",
              "      fill: #174EA6;\n",
              "    }\n",
              "\n",
              "    .colab-df-buttons div {\n",
              "      margin-bottom: 4px;\n",
              "    }\n",
              "\n",
              "    [theme=dark] .colab-df-convert {\n",
              "      background-color: #3B4455;\n",
              "      fill: #D2E3FC;\n",
              "    }\n",
              "\n",
              "    [theme=dark] .colab-df-convert:hover {\n",
              "      background-color: #434B5C;\n",
              "      box-shadow: 0px 1px 3px 1px rgba(0, 0, 0, 0.15);\n",
              "      filter: drop-shadow(0px 1px 2px rgba(0, 0, 0, 0.3));\n",
              "      fill: #FFFFFF;\n",
              "    }\n",
              "  </style>\n",
              "\n",
              "    <script>\n",
              "      const buttonEl =\n",
              "        document.querySelector('#df-9f25a124-9d34-45ab-b078-c7185fa6d092 button.colab-df-convert');\n",
              "      buttonEl.style.display =\n",
              "        google.colab.kernel.accessAllowed ? 'block' : 'none';\n",
              "\n",
              "      async function convertToInteractive(key) {\n",
              "        const element = document.querySelector('#df-9f25a124-9d34-45ab-b078-c7185fa6d092');\n",
              "        const dataTable =\n",
              "          await google.colab.kernel.invokeFunction('convertToInteractive',\n",
              "                                                    [key], {});\n",
              "        if (!dataTable) return;\n",
              "\n",
              "        const docLinkHtml = 'Like what you see? Visit the ' +\n",
              "          '<a target=\"_blank\" href=https://colab.research.google.com/notebooks/data_table.ipynb>data table notebook</a>'\n",
              "          + ' to learn more about interactive tables.';\n",
              "        element.innerHTML = '';\n",
              "        dataTable['output_type'] = 'display_data';\n",
              "        await google.colab.output.renderOutput(dataTable, element);\n",
              "        const docLink = document.createElement('div');\n",
              "        docLink.innerHTML = docLinkHtml;\n",
              "        element.appendChild(docLink);\n",
              "      }\n",
              "    </script>\n",
              "  </div>\n",
              "\n",
              "\n",
              "<div id=\"df-1f08211e-764f-4a6d-a240-f5899a2001c8\">\n",
              "  <button class=\"colab-df-quickchart\" onclick=\"quickchart('df-1f08211e-764f-4a6d-a240-f5899a2001c8')\"\n",
              "            title=\"Suggest charts\"\n",
              "            style=\"display:none;\">\n",
              "\n",
              "<svg xmlns=\"http://www.w3.org/2000/svg\" height=\"24px\"viewBox=\"0 0 24 24\"\n",
              "     width=\"24px\">\n",
              "    <g>\n",
              "        <path d=\"M19 3H5c-1.1 0-2 .9-2 2v14c0 1.1.9 2 2 2h14c1.1 0 2-.9 2-2V5c0-1.1-.9-2-2-2zM9 17H7v-7h2v7zm4 0h-2V7h2v10zm4 0h-2v-4h2v4z\"/>\n",
              "    </g>\n",
              "</svg>\n",
              "  </button>\n",
              "\n",
              "<style>\n",
              "  .colab-df-quickchart {\n",
              "      --bg-color: #E8F0FE;\n",
              "      --fill-color: #1967D2;\n",
              "      --hover-bg-color: #E2EBFA;\n",
              "      --hover-fill-color: #174EA6;\n",
              "      --disabled-fill-color: #AAA;\n",
              "      --disabled-bg-color: #DDD;\n",
              "  }\n",
              "\n",
              "  [theme=dark] .colab-df-quickchart {\n",
              "      --bg-color: #3B4455;\n",
              "      --fill-color: #D2E3FC;\n",
              "      --hover-bg-color: #434B5C;\n",
              "      --hover-fill-color: #FFFFFF;\n",
              "      --disabled-bg-color: #3B4455;\n",
              "      --disabled-fill-color: #666;\n",
              "  }\n",
              "\n",
              "  .colab-df-quickchart {\n",
              "    background-color: var(--bg-color);\n",
              "    border: none;\n",
              "    border-radius: 50%;\n",
              "    cursor: pointer;\n",
              "    display: none;\n",
              "    fill: var(--fill-color);\n",
              "    height: 32px;\n",
              "    padding: 0;\n",
              "    width: 32px;\n",
              "  }\n",
              "\n",
              "  .colab-df-quickchart:hover {\n",
              "    background-color: var(--hover-bg-color);\n",
              "    box-shadow: 0 1px 2px rgba(60, 64, 67, 0.3), 0 1px 3px 1px rgba(60, 64, 67, 0.15);\n",
              "    fill: var(--button-hover-fill-color);\n",
              "  }\n",
              "\n",
              "  .colab-df-quickchart-complete:disabled,\n",
              "  .colab-df-quickchart-complete:disabled:hover {\n",
              "    background-color: var(--disabled-bg-color);\n",
              "    fill: var(--disabled-fill-color);\n",
              "    box-shadow: none;\n",
              "  }\n",
              "\n",
              "  .colab-df-spinner {\n",
              "    border: 2px solid var(--fill-color);\n",
              "    border-color: transparent;\n",
              "    border-bottom-color: var(--fill-color);\n",
              "    animation:\n",
              "      spin 1s steps(1) infinite;\n",
              "  }\n",
              "\n",
              "  @keyframes spin {\n",
              "    0% {\n",
              "      border-color: transparent;\n",
              "      border-bottom-color: var(--fill-color);\n",
              "      border-left-color: var(--fill-color);\n",
              "    }\n",
              "    20% {\n",
              "      border-color: transparent;\n",
              "      border-left-color: var(--fill-color);\n",
              "      border-top-color: var(--fill-color);\n",
              "    }\n",
              "    30% {\n",
              "      border-color: transparent;\n",
              "      border-left-color: var(--fill-color);\n",
              "      border-top-color: var(--fill-color);\n",
              "      border-right-color: var(--fill-color);\n",
              "    }\n",
              "    40% {\n",
              "      border-color: transparent;\n",
              "      border-right-color: var(--fill-color);\n",
              "      border-top-color: var(--fill-color);\n",
              "    }\n",
              "    60% {\n",
              "      border-color: transparent;\n",
              "      border-right-color: var(--fill-color);\n",
              "    }\n",
              "    80% {\n",
              "      border-color: transparent;\n",
              "      border-right-color: var(--fill-color);\n",
              "      border-bottom-color: var(--fill-color);\n",
              "    }\n",
              "    90% {\n",
              "      border-color: transparent;\n",
              "      border-bottom-color: var(--fill-color);\n",
              "    }\n",
              "  }\n",
              "</style>\n",
              "\n",
              "  <script>\n",
              "    async function quickchart(key) {\n",
              "      const quickchartButtonEl =\n",
              "        document.querySelector('#' + key + ' button');\n",
              "      quickchartButtonEl.disabled = true;  // To prevent multiple clicks.\n",
              "      quickchartButtonEl.classList.add('colab-df-spinner');\n",
              "      try {\n",
              "        const charts = await google.colab.kernel.invokeFunction(\n",
              "            'suggestCharts', [key], {});\n",
              "      } catch (error) {\n",
              "        console.error('Error during call to suggestCharts:', error);\n",
              "      }\n",
              "      quickchartButtonEl.classList.remove('colab-df-spinner');\n",
              "      quickchartButtonEl.classList.add('colab-df-quickchart-complete');\n",
              "    }\n",
              "    (() => {\n",
              "      let quickchartButtonEl =\n",
              "        document.querySelector('#df-1f08211e-764f-4a6d-a240-f5899a2001c8 button');\n",
              "      quickchartButtonEl.style.display =\n",
              "        google.colab.kernel.accessAllowed ? 'block' : 'none';\n",
              "    })();\n",
              "  </script>\n",
              "</div>\n",
              "\n",
              "    </div>\n",
              "  </div>\n"
            ],
            "application/vnd.google.colaboratory.intrinsic+json": {
              "type": "dataframe",
              "summary": "{\n  \"name\": \"df[['ProductID','ProductCategory','PricePerUnit']]\",\n  \"rows\": 50,\n  \"fields\": [\n    {\n      \"column\": \"ProductID\",\n      \"properties\": {\n        \"dtype\": \"number\",\n        \"std\": 2,\n        \"min\": 2001,\n        \"max\": 2008,\n        \"num_unique_values\": 8,\n        \"samples\": [\n          2002,\n          2006,\n          2001\n        ],\n        \"semantic_type\": \"\",\n        \"description\": \"\"\n      }\n    },\n    {\n      \"column\": \"ProductCategory\",\n      \"properties\": {\n        \"dtype\": \"category\",\n        \"num_unique_values\": 5,\n        \"samples\": [\n          \"Home Decor\",\n          \"Fashion\",\n          \"Electronics\"\n        ],\n        \"semantic_type\": \"\",\n        \"description\": \"\"\n      }\n    },\n    {\n      \"column\": \"PricePerUnit\",\n      \"properties\": {\n        \"dtype\": \"number\",\n        \"std\": 188.29287386729843,\n        \"min\": 10.0,\n        \"max\": 500.0,\n        \"num_unique_values\": 6,\n        \"samples\": [\n          30.0,\n          50.0,\n          100.0\n        ],\n        \"semantic_type\": \"\",\n        \"description\": \"\"\n      }\n    }\n  ]\n}"
            }
          },
          "metadata": {},
          "execution_count": 8
        }
      ]
    },
    {
      "cell_type": "markdown",
      "source": [
        "Based on the above data we can observe that though we have same productID and same productcategory, their PricePerUnit values are different.Based on this we can fill the PricePerUnit with the median."
      ],
      "metadata": {
        "id": "VbTKLVZX2zdj"
      }
    },
    {
      "cell_type": "code",
      "source": [
        "df['PricePerUnit'] = df.groupby('ProductID')['PricePerUnit'].transform(lambda x: x.fillna(x.median()))"
      ],
      "metadata": {
        "id": "O2YBmHN96JXW"
      },
      "execution_count": null,
      "outputs": []
    },
    {
      "cell_type": "code",
      "source": [
        "# Fill missing TotalAmount using Quantity * PricePerUnit\n",
        "df['TotalAmount'] = df['TotalAmount'].fillna(df['Quantity'] * df['PricePerUnit'])"
      ],
      "metadata": {
        "id": "j8hQqI3FuN43"
      },
      "execution_count": null,
      "outputs": []
    },
    {
      "cell_type": "code",
      "source": [
        "#Fill missing PaymentMethod with mode since it is an categorical variable\n",
        "df['PaymentMethod'].fillna(df['PaymentMethod'].mode()[0], inplace=True)"
      ],
      "metadata": {
        "id": "iQ0LcJbL6lH_"
      },
      "execution_count": null,
      "outputs": []
    },
    {
      "cell_type": "code",
      "source": [
        "# Fill missing DiscountApplied with mode or median, or 0 if it's rare\n",
        "df['DiscountApplied'].fillna(0, inplace=True)  # Assuming discounts are rare"
      ],
      "metadata": {
        "id": "gS4z-uQV6wn0"
      },
      "execution_count": null,
      "outputs": []
    },
    {
      "cell_type": "code",
      "source": [
        "# Fill missing CustomerID with frequent repeat customers\n",
        "df['CustomerID'].fillna(df['CustomerID'].mode()[0], inplace=True)"
      ],
      "metadata": {
        "id": "TZHi2t21-NVp"
      },
      "execution_count": null,
      "outputs": []
    },
    {
      "cell_type": "code",
      "source": [
        "df.isna().sum().sort_values(ascending=False)"
      ],
      "metadata": {
        "colab": {
          "base_uri": "https://localhost:8080/",
          "height": 429
        },
        "id": "nzYaPcm_676w",
        "outputId": "ba992576-b49e-4e29-e335-ff5d3de7faf4"
      },
      "execution_count": null,
      "outputs": [
        {
          "output_type": "execute_result",
          "data": {
            "text/plain": [
              "TransactionDate    1\n",
              "TransactionID      0\n",
              "CustomerID         0\n",
              "ProductID          0\n",
              "ProductCategory    0\n",
              "Quantity           0\n",
              "PricePerUnit       0\n",
              "TotalAmount        0\n",
              "TrustPointsUsed    0\n",
              "PaymentMethod      0\n",
              "DiscountApplied    0\n",
              "dtype: int64"
            ],
            "text/html": [
              "<div>\n",
              "<style scoped>\n",
              "    .dataframe tbody tr th:only-of-type {\n",
              "        vertical-align: middle;\n",
              "    }\n",
              "\n",
              "    .dataframe tbody tr th {\n",
              "        vertical-align: top;\n",
              "    }\n",
              "\n",
              "    .dataframe thead th {\n",
              "        text-align: right;\n",
              "    }\n",
              "</style>\n",
              "<table border=\"1\" class=\"dataframe\">\n",
              "  <thead>\n",
              "    <tr style=\"text-align: right;\">\n",
              "      <th></th>\n",
              "      <th>0</th>\n",
              "    </tr>\n",
              "  </thead>\n",
              "  <tbody>\n",
              "    <tr>\n",
              "      <th>TransactionDate</th>\n",
              "      <td>1</td>\n",
              "    </tr>\n",
              "    <tr>\n",
              "      <th>TransactionID</th>\n",
              "      <td>0</td>\n",
              "    </tr>\n",
              "    <tr>\n",
              "      <th>CustomerID</th>\n",
              "      <td>0</td>\n",
              "    </tr>\n",
              "    <tr>\n",
              "      <th>ProductID</th>\n",
              "      <td>0</td>\n",
              "    </tr>\n",
              "    <tr>\n",
              "      <th>ProductCategory</th>\n",
              "      <td>0</td>\n",
              "    </tr>\n",
              "    <tr>\n",
              "      <th>Quantity</th>\n",
              "      <td>0</td>\n",
              "    </tr>\n",
              "    <tr>\n",
              "      <th>PricePerUnit</th>\n",
              "      <td>0</td>\n",
              "    </tr>\n",
              "    <tr>\n",
              "      <th>TotalAmount</th>\n",
              "      <td>0</td>\n",
              "    </tr>\n",
              "    <tr>\n",
              "      <th>TrustPointsUsed</th>\n",
              "      <td>0</td>\n",
              "    </tr>\n",
              "    <tr>\n",
              "      <th>PaymentMethod</th>\n",
              "      <td>0</td>\n",
              "    </tr>\n",
              "    <tr>\n",
              "      <th>DiscountApplied</th>\n",
              "      <td>0</td>\n",
              "    </tr>\n",
              "  </tbody>\n",
              "</table>\n",
              "</div><br><label><b>dtype:</b> int64</label>"
            ]
          },
          "metadata": {},
          "execution_count": 14
        }
      ]
    },
    {
      "cell_type": "markdown",
      "source": [
        "**Data Type Conversion**"
      ],
      "metadata": {
        "id": "5GV9HOH886xF"
      }
    },
    {
      "cell_type": "code",
      "source": [
        "#Convert TransactionDate to a datetime format\n",
        "df['TransactionDate'] = pd.to_datetime(df['TransactionDate'])"
      ],
      "metadata": {
        "id": "6hTTJP8U7BuD"
      },
      "execution_count": null,
      "outputs": []
    },
    {
      "cell_type": "code",
      "source": [
        "#convert CustomerID to object format.\n",
        "df['CustomerID'] = df['CustomerID'].astype(str)"
      ],
      "metadata": {
        "id": "1Z69IpG_8_3Q"
      },
      "execution_count": null,
      "outputs": []
    },
    {
      "cell_type": "code",
      "source": [
        "print(df['TransactionDate'].dtype)\n",
        "print(df['CustomerID'].dtype)"
      ],
      "metadata": {
        "colab": {
          "base_uri": "https://localhost:8080/"
        },
        "id": "IgS1tvL19U-x",
        "outputId": "be52520c-e5fe-4dcb-d4f4-6af0f1028011"
      },
      "execution_count": null,
      "outputs": [
        {
          "output_type": "stream",
          "name": "stdout",
          "text": [
            "datetime64[ns]\n",
            "object\n"
          ]
        }
      ]
    },
    {
      "cell_type": "markdown",
      "source": [
        "**Preprocessing Summary:**\n",
        "\n",
        "**Missing Values:**\n",
        "\n",
        "CustomerID : Replaced missing values with frequent repeat customer.\n",
        "\n",
        "PricePerUnit : Filled missing values with the median value.\n",
        "\n",
        "TotalAmount : Recalculated where missing based on Quantity * PricePerUnit - DiscountApplied.\n",
        "\n",
        "PaymentMethod : Filled missing values with the mode.\n",
        "\n",
        "Data Type Conversion:\n",
        "Converted TransactionDate to a proper datetime format."
      ],
      "metadata": {
        "id": "25jfOiy1KiTI"
      }
    },
    {
      "cell_type": "markdown",
      "source": [
        "**Data Validation**"
      ],
      "metadata": {
        "id": "6730S8o1Jfwq"
      }
    },
    {
      "cell_type": "code",
      "source": [
        "#Validate that TotalAmount is correctly calculated as Quantity * PricePerUnit - DiscountApplied.\n",
        "df['TotalAmount_Calculated'] = (df['Quantity'] * df['PricePerUnit']) - df['DiscountApplied']"
      ],
      "metadata": {
        "id": "gfYA5JfGI5fh"
      },
      "execution_count": null,
      "outputs": []
    },
    {
      "cell_type": "code",
      "source": [
        "df['TotalAmount_Calculated'].equals(df['TotalAmount'])"
      ],
      "metadata": {
        "colab": {
          "base_uri": "https://localhost:8080/"
        },
        "id": "MvmCMs-JJ0MR",
        "outputId": "98d0657c-f345-4f06-af3d-37887a83e4bd"
      },
      "execution_count": null,
      "outputs": [
        {
          "output_type": "execute_result",
          "data": {
            "text/plain": [
              "False"
            ]
          },
          "metadata": {},
          "execution_count": 17
        }
      ]
    },
    {
      "cell_type": "markdown",
      "source": [
        "There are some discrepancies between the recalculated TotalAmount and the provided values in a few records. These cases need further investigation as they suggest possible data entry errors or logical inconsistencies."
      ],
      "metadata": {
        "id": "1SI9X5oQLSUr"
      }
    },
    {
      "cell_type": "markdown",
      "source": [
        "# **Data Aggregation and Grouping**"
      ],
      "metadata": {
        "id": "Pkfo3Qs2LY4P"
      }
    },
    {
      "cell_type": "markdown",
      "source": [
        "**Fields for Aggregation :**\n",
        "\n",
        "Quantity: Sum to understand total items sold.\n",
        "\n",
        "TotalAmount: Sum to calculate total sales.\n",
        "\n",
        "DiscountApplied: Sum to see total discounts given.\n",
        "\n",
        "TrustPointsUsed: Sum to check the total points used.\n",
        "\n",
        "**Aggregation Type :**\n",
        "\n",
        "Sum : For Quantity, TotalAmount, DiscountApplied, and TrustPointsUsed to get overall totals.\n",
        "\n",
        "Mean : For PricePerUnit to understand the average price.\n",
        "\n",
        "Count : For TransactionID to know the number of transactions."
      ],
      "metadata": {
        "id": "IcFlcTm1LcKH"
      }
    },
    {
      "cell_type": "markdown",
      "source": [
        "**Total Quantity Sold :**"
      ],
      "metadata": {
        "id": "Rj9uYGigMh_w"
      }
    },
    {
      "cell_type": "code",
      "source": [
        "total_quantity_sold = df['Quantity'].sum()\n",
        "print(f\"Total Quantity Sold: {total_quantity_sold} units\")"
      ],
      "metadata": {
        "colab": {
          "base_uri": "https://localhost:8080/"
        },
        "id": "pRzuk6lpJ3UO",
        "outputId": "35db9178-0465-45e3-9f2b-22f22133e6a2"
      },
      "execution_count": null,
      "outputs": [
        {
          "output_type": "stream",
          "name": "stdout",
          "text": [
            "Total Quantity Sold: 71 units\n"
          ]
        }
      ]
    },
    {
      "cell_type": "markdown",
      "source": [
        "**Total Sales (TotalAmount):**"
      ],
      "metadata": {
        "id": "DdFaKs1EMljz"
      }
    },
    {
      "cell_type": "code",
      "source": [
        "total_sales = df['TotalAmount_Calculated'].sum()\n",
        "print(f\"Total Sales (TotalAmount): {total_sales} units\")"
      ],
      "metadata": {
        "colab": {
          "base_uri": "https://localhost:8080/"
        },
        "id": "3VERWWguMd1T",
        "outputId": "c9e765b7-8012-4878-b475-95b0da95a57f"
      },
      "execution_count": null,
      "outputs": [
        {
          "output_type": "stream",
          "name": "stdout",
          "text": [
            "Total Sales (TotalAmount): 6220.0 units\n"
          ]
        }
      ]
    },
    {
      "cell_type": "markdown",
      "source": [
        "**Total Discounts Applied:**"
      ],
      "metadata": {
        "id": "LTmGrskLMwV0"
      }
    },
    {
      "cell_type": "code",
      "source": [
        "total_discounts_applied = df['DiscountApplied'].sum()\n",
        "print(f\"Total Discounts Applied: {total_discounts_applied} units\")"
      ],
      "metadata": {
        "colab": {
          "base_uri": "https://localhost:8080/"
        },
        "id": "eUZoeqobMs72",
        "outputId": "cedf690e-d148-4ccc-d7d8-5acf2b724876"
      },
      "execution_count": null,
      "outputs": [
        {
          "output_type": "stream",
          "name": "stdout",
          "text": [
            "Total Discounts Applied: 1075.0 units\n"
          ]
        }
      ]
    },
    {
      "cell_type": "markdown",
      "source": [
        "**Total Trust Points Used:**"
      ],
      "metadata": {
        "id": "8NMSLIgWM3zq"
      }
    },
    {
      "cell_type": "code",
      "source": [
        "total_trust_points_used = df['TrustPointsUsed'].sum()\n",
        "print(f\"Total Trust Points Used: {total_trust_points_used} points\")"
      ],
      "metadata": {
        "colab": {
          "base_uri": "https://localhost:8080/"
        },
        "id": "tS9H2ME6M0T6",
        "outputId": "f090bbfe-82b9-49e1-9148-93a102268adc"
      },
      "execution_count": null,
      "outputs": [
        {
          "output_type": "stream",
          "name": "stdout",
          "text": [
            "Total Trust Points Used: 1440 points\n"
          ]
        }
      ]
    },
    {
      "cell_type": "markdown",
      "source": [
        "**Average Price Per Unit:**"
      ],
      "metadata": {
        "id": "5byIIRcPM-IL"
      }
    },
    {
      "cell_type": "code",
      "source": [
        "average_price_per_unit = df['PricePerUnit'].mean()\n",
        "print(f\"Average Price Per Unit: {average_price_per_unit} units\")"
      ],
      "metadata": {
        "colab": {
          "base_uri": "https://localhost:8080/"
        },
        "id": "7hMVzlGTM7YJ",
        "outputId": "2f23c508-f66b-4f48-9a1d-b0f9e3981ecf"
      },
      "execution_count": null,
      "outputs": [
        {
          "output_type": "stream",
          "name": "stdout",
          "text": [
            "Average Price Per Unit: 127.4 units\n"
          ]
        }
      ]
    },
    {
      "cell_type": "markdown",
      "source": [
        "**Number of Transactions:**"
      ],
      "metadata": {
        "id": "1XpUB0_9NILK"
      }
    },
    {
      "cell_type": "code",
      "source": [
        "number_of_transactions = df['TransactionID'].count()\n",
        "print(f\"Number of Transactions: {number_of_transactions} transactions\")"
      ],
      "metadata": {
        "colab": {
          "base_uri": "https://localhost:8080/"
        },
        "id": "lmQaWAHRNCSD",
        "outputId": "68e47a03-141c-4ff1-d7b8-849df42e0a71"
      },
      "execution_count": null,
      "outputs": [
        {
          "output_type": "stream",
          "name": "stdout",
          "text": [
            "Number of Transactions: 50 transactions\n"
          ]
        }
      ]
    },
    {
      "cell_type": "markdown",
      "source": [
        "# **Data Validation:**"
      ],
      "metadata": {
        "id": "RMXSurFOQct7"
      }
    },
    {
      "cell_type": "markdown",
      "source": [
        "**Edge Cases:**"
      ],
      "metadata": {
        "id": "UsOB1XdaQqhn"
      }
    },
    {
      "cell_type": "markdown",
      "source": [
        "**unusually high discounts:**"
      ],
      "metadata": {
        "id": "Hvoy9ytZQc1_"
      }
    },
    {
      "cell_type": "code",
      "source": [
        "df[df['DiscountApplied'] > df['TotalAmount_Calculated']]"
      ],
      "metadata": {
        "colab": {
          "base_uri": "https://localhost:8080/",
          "height": 633
        },
        "id": "Z8OdLlvnNE3b",
        "outputId": "8b859c97-8767-49a1-bee5-3af883c9f8df"
      },
      "execution_count": null,
      "outputs": [
        {
          "output_type": "execute_result",
          "data": {
            "text/plain": [
              "    TransactionID  CustomerID TransactionDate  ProductID ProductCategory  \\\n",
              "1               2      1001.0      2024-07-08       2004      Home Decor   \n",
              "6               7      1001.0      2024-01-08       2007      Home Decor   \n",
              "7               8      1005.0      2024-04-08       2006            Toys   \n",
              "11             12      1001.0      2024-09-08       2004     Electronics   \n",
              "14             15      1001.0      2024-02-08       2003            Toys   \n",
              "19             20      1002.0      2024-03-08       2007         Fashion   \n",
              "20             21      1004.0      2024-01-08       2006            Toys   \n",
              "21             22      1001.0      2024-07-08       2003     Electronics   \n",
              "25             26      1004.0      2024-02-08       2007      Home Decor   \n",
              "27             28      1003.0      2024-01-08       2006            Toys   \n",
              "34             35      1001.0      2024-06-08       2002     Electronics   \n",
              "35             36      1005.0      2024-06-08       2004      Home Decor   \n",
              "38             39      1004.0      2024-06-08       2007      Home Decor   \n",
              "39             40      1003.0      2024-04-08       2008     Electronics   \n",
              "42             43      1001.0      2024-07-08       2004     Electronics   \n",
              "45             46      1004.0      2024-01-08       2004            Toys   \n",
              "47             48      1003.0      2024-02-08       2005      Home Decor   \n",
              "48             49      1003.0      2024-06-08       2007     Electronics   \n",
              "\n",
              "    Quantity  PricePerUnit  TotalAmount  TrustPointsUsed PaymentMethod  \\\n",
              "1          1          10.0         10.0                0   Credit Card   \n",
              "6         -1          30.0        -30.0              -10          Cash   \n",
              "7          1          50.0         50.0              -10  Trust Points   \n",
              "11         1          10.0         10.0              -10          Cash   \n",
              "14         1          30.0         30.0              -10          Cash   \n",
              "19         2          25.0         50.0              -10          Cash   \n",
              "20         1          50.0         50.0                0          Cash   \n",
              "21         0         500.0          0.0               50  Trust Points   \n",
              "25         2          10.0         20.0              100  Trust Points   \n",
              "27         1          10.0         10.0               50          Cash   \n",
              "34        -1         500.0       -500.0              100  Trust Points   \n",
              "35         1          30.0         30.0              -10          Cash   \n",
              "38        -1          10.0        -10.0               20   Credit Card   \n",
              "39         0          50.0          0.0               50          Cash   \n",
              "42         0          10.0          0.0              100  Trust Points   \n",
              "45         1          10.0         10.0              100          Cash   \n",
              "47         0         500.0          0.0               50          Cash   \n",
              "48        -1          25.0        -25.0                0          Cash   \n",
              "\n",
              "    DiscountApplied  TotalAmount_Calculated  \n",
              "1              20.0                   -10.0  \n",
              "6               0.0                   -30.0  \n",
              "7              30.0                    20.0  \n",
              "11             15.0                    -5.0  \n",
              "14             20.0                    10.0  \n",
              "19             50.0                     0.0  \n",
              "20             30.0                    20.0  \n",
              "21             15.0                   -15.0  \n",
              "25             30.0                   -10.0  \n",
              "27             30.0                   -20.0  \n",
              "34             30.0                  -530.0  \n",
              "35             50.0                   -20.0  \n",
              "38             20.0                   -30.0  \n",
              "39             25.0                   -25.0  \n",
              "42             25.0                   -25.0  \n",
              "45             20.0                   -10.0  \n",
              "47             50.0                   -50.0  \n",
              "48             20.0                   -45.0  "
            ],
            "text/html": [
              "\n",
              "  <div id=\"df-b1438839-4dae-41db-995e-3f10d96568a9\" class=\"colab-df-container\">\n",
              "    <div>\n",
              "<style scoped>\n",
              "    .dataframe tbody tr th:only-of-type {\n",
              "        vertical-align: middle;\n",
              "    }\n",
              "\n",
              "    .dataframe tbody tr th {\n",
              "        vertical-align: top;\n",
              "    }\n",
              "\n",
              "    .dataframe thead th {\n",
              "        text-align: right;\n",
              "    }\n",
              "</style>\n",
              "<table border=\"1\" class=\"dataframe\">\n",
              "  <thead>\n",
              "    <tr style=\"text-align: right;\">\n",
              "      <th></th>\n",
              "      <th>TransactionID</th>\n",
              "      <th>CustomerID</th>\n",
              "      <th>TransactionDate</th>\n",
              "      <th>ProductID</th>\n",
              "      <th>ProductCategory</th>\n",
              "      <th>Quantity</th>\n",
              "      <th>PricePerUnit</th>\n",
              "      <th>TotalAmount</th>\n",
              "      <th>TrustPointsUsed</th>\n",
              "      <th>PaymentMethod</th>\n",
              "      <th>DiscountApplied</th>\n",
              "      <th>TotalAmount_Calculated</th>\n",
              "    </tr>\n",
              "  </thead>\n",
              "  <tbody>\n",
              "    <tr>\n",
              "      <th>1</th>\n",
              "      <td>2</td>\n",
              "      <td>1001.0</td>\n",
              "      <td>2024-07-08</td>\n",
              "      <td>2004</td>\n",
              "      <td>Home Decor</td>\n",
              "      <td>1</td>\n",
              "      <td>10.0</td>\n",
              "      <td>10.0</td>\n",
              "      <td>0</td>\n",
              "      <td>Credit Card</td>\n",
              "      <td>20.0</td>\n",
              "      <td>-10.0</td>\n",
              "    </tr>\n",
              "    <tr>\n",
              "      <th>6</th>\n",
              "      <td>7</td>\n",
              "      <td>1001.0</td>\n",
              "      <td>2024-01-08</td>\n",
              "      <td>2007</td>\n",
              "      <td>Home Decor</td>\n",
              "      <td>-1</td>\n",
              "      <td>30.0</td>\n",
              "      <td>-30.0</td>\n",
              "      <td>-10</td>\n",
              "      <td>Cash</td>\n",
              "      <td>0.0</td>\n",
              "      <td>-30.0</td>\n",
              "    </tr>\n",
              "    <tr>\n",
              "      <th>7</th>\n",
              "      <td>8</td>\n",
              "      <td>1005.0</td>\n",
              "      <td>2024-04-08</td>\n",
              "      <td>2006</td>\n",
              "      <td>Toys</td>\n",
              "      <td>1</td>\n",
              "      <td>50.0</td>\n",
              "      <td>50.0</td>\n",
              "      <td>-10</td>\n",
              "      <td>Trust Points</td>\n",
              "      <td>30.0</td>\n",
              "      <td>20.0</td>\n",
              "    </tr>\n",
              "    <tr>\n",
              "      <th>11</th>\n",
              "      <td>12</td>\n",
              "      <td>1001.0</td>\n",
              "      <td>2024-09-08</td>\n",
              "      <td>2004</td>\n",
              "      <td>Electronics</td>\n",
              "      <td>1</td>\n",
              "      <td>10.0</td>\n",
              "      <td>10.0</td>\n",
              "      <td>-10</td>\n",
              "      <td>Cash</td>\n",
              "      <td>15.0</td>\n",
              "      <td>-5.0</td>\n",
              "    </tr>\n",
              "    <tr>\n",
              "      <th>14</th>\n",
              "      <td>15</td>\n",
              "      <td>1001.0</td>\n",
              "      <td>2024-02-08</td>\n",
              "      <td>2003</td>\n",
              "      <td>Toys</td>\n",
              "      <td>1</td>\n",
              "      <td>30.0</td>\n",
              "      <td>30.0</td>\n",
              "      <td>-10</td>\n",
              "      <td>Cash</td>\n",
              "      <td>20.0</td>\n",
              "      <td>10.0</td>\n",
              "    </tr>\n",
              "    <tr>\n",
              "      <th>19</th>\n",
              "      <td>20</td>\n",
              "      <td>1002.0</td>\n",
              "      <td>2024-03-08</td>\n",
              "      <td>2007</td>\n",
              "      <td>Fashion</td>\n",
              "      <td>2</td>\n",
              "      <td>25.0</td>\n",
              "      <td>50.0</td>\n",
              "      <td>-10</td>\n",
              "      <td>Cash</td>\n",
              "      <td>50.0</td>\n",
              "      <td>0.0</td>\n",
              "    </tr>\n",
              "    <tr>\n",
              "      <th>20</th>\n",
              "      <td>21</td>\n",
              "      <td>1004.0</td>\n",
              "      <td>2024-01-08</td>\n",
              "      <td>2006</td>\n",
              "      <td>Toys</td>\n",
              "      <td>1</td>\n",
              "      <td>50.0</td>\n",
              "      <td>50.0</td>\n",
              "      <td>0</td>\n",
              "      <td>Cash</td>\n",
              "      <td>30.0</td>\n",
              "      <td>20.0</td>\n",
              "    </tr>\n",
              "    <tr>\n",
              "      <th>21</th>\n",
              "      <td>22</td>\n",
              "      <td>1001.0</td>\n",
              "      <td>2024-07-08</td>\n",
              "      <td>2003</td>\n",
              "      <td>Electronics</td>\n",
              "      <td>0</td>\n",
              "      <td>500.0</td>\n",
              "      <td>0.0</td>\n",
              "      <td>50</td>\n",
              "      <td>Trust Points</td>\n",
              "      <td>15.0</td>\n",
              "      <td>-15.0</td>\n",
              "    </tr>\n",
              "    <tr>\n",
              "      <th>25</th>\n",
              "      <td>26</td>\n",
              "      <td>1004.0</td>\n",
              "      <td>2024-02-08</td>\n",
              "      <td>2007</td>\n",
              "      <td>Home Decor</td>\n",
              "      <td>2</td>\n",
              "      <td>10.0</td>\n",
              "      <td>20.0</td>\n",
              "      <td>100</td>\n",
              "      <td>Trust Points</td>\n",
              "      <td>30.0</td>\n",
              "      <td>-10.0</td>\n",
              "    </tr>\n",
              "    <tr>\n",
              "      <th>27</th>\n",
              "      <td>28</td>\n",
              "      <td>1003.0</td>\n",
              "      <td>2024-01-08</td>\n",
              "      <td>2006</td>\n",
              "      <td>Toys</td>\n",
              "      <td>1</td>\n",
              "      <td>10.0</td>\n",
              "      <td>10.0</td>\n",
              "      <td>50</td>\n",
              "      <td>Cash</td>\n",
              "      <td>30.0</td>\n",
              "      <td>-20.0</td>\n",
              "    </tr>\n",
              "    <tr>\n",
              "      <th>34</th>\n",
              "      <td>35</td>\n",
              "      <td>1001.0</td>\n",
              "      <td>2024-06-08</td>\n",
              "      <td>2002</td>\n",
              "      <td>Electronics</td>\n",
              "      <td>-1</td>\n",
              "      <td>500.0</td>\n",
              "      <td>-500.0</td>\n",
              "      <td>100</td>\n",
              "      <td>Trust Points</td>\n",
              "      <td>30.0</td>\n",
              "      <td>-530.0</td>\n",
              "    </tr>\n",
              "    <tr>\n",
              "      <th>35</th>\n",
              "      <td>36</td>\n",
              "      <td>1005.0</td>\n",
              "      <td>2024-06-08</td>\n",
              "      <td>2004</td>\n",
              "      <td>Home Decor</td>\n",
              "      <td>1</td>\n",
              "      <td>30.0</td>\n",
              "      <td>30.0</td>\n",
              "      <td>-10</td>\n",
              "      <td>Cash</td>\n",
              "      <td>50.0</td>\n",
              "      <td>-20.0</td>\n",
              "    </tr>\n",
              "    <tr>\n",
              "      <th>38</th>\n",
              "      <td>39</td>\n",
              "      <td>1004.0</td>\n",
              "      <td>2024-06-08</td>\n",
              "      <td>2007</td>\n",
              "      <td>Home Decor</td>\n",
              "      <td>-1</td>\n",
              "      <td>10.0</td>\n",
              "      <td>-10.0</td>\n",
              "      <td>20</td>\n",
              "      <td>Credit Card</td>\n",
              "      <td>20.0</td>\n",
              "      <td>-30.0</td>\n",
              "    </tr>\n",
              "    <tr>\n",
              "      <th>39</th>\n",
              "      <td>40</td>\n",
              "      <td>1003.0</td>\n",
              "      <td>2024-04-08</td>\n",
              "      <td>2008</td>\n",
              "      <td>Electronics</td>\n",
              "      <td>0</td>\n",
              "      <td>50.0</td>\n",
              "      <td>0.0</td>\n",
              "      <td>50</td>\n",
              "      <td>Cash</td>\n",
              "      <td>25.0</td>\n",
              "      <td>-25.0</td>\n",
              "    </tr>\n",
              "    <tr>\n",
              "      <th>42</th>\n",
              "      <td>43</td>\n",
              "      <td>1001.0</td>\n",
              "      <td>2024-07-08</td>\n",
              "      <td>2004</td>\n",
              "      <td>Electronics</td>\n",
              "      <td>0</td>\n",
              "      <td>10.0</td>\n",
              "      <td>0.0</td>\n",
              "      <td>100</td>\n",
              "      <td>Trust Points</td>\n",
              "      <td>25.0</td>\n",
              "      <td>-25.0</td>\n",
              "    </tr>\n",
              "    <tr>\n",
              "      <th>45</th>\n",
              "      <td>46</td>\n",
              "      <td>1004.0</td>\n",
              "      <td>2024-01-08</td>\n",
              "      <td>2004</td>\n",
              "      <td>Toys</td>\n",
              "      <td>1</td>\n",
              "      <td>10.0</td>\n",
              "      <td>10.0</td>\n",
              "      <td>100</td>\n",
              "      <td>Cash</td>\n",
              "      <td>20.0</td>\n",
              "      <td>-10.0</td>\n",
              "    </tr>\n",
              "    <tr>\n",
              "      <th>47</th>\n",
              "      <td>48</td>\n",
              "      <td>1003.0</td>\n",
              "      <td>2024-02-08</td>\n",
              "      <td>2005</td>\n",
              "      <td>Home Decor</td>\n",
              "      <td>0</td>\n",
              "      <td>500.0</td>\n",
              "      <td>0.0</td>\n",
              "      <td>50</td>\n",
              "      <td>Cash</td>\n",
              "      <td>50.0</td>\n",
              "      <td>-50.0</td>\n",
              "    </tr>\n",
              "    <tr>\n",
              "      <th>48</th>\n",
              "      <td>49</td>\n",
              "      <td>1003.0</td>\n",
              "      <td>2024-06-08</td>\n",
              "      <td>2007</td>\n",
              "      <td>Electronics</td>\n",
              "      <td>-1</td>\n",
              "      <td>25.0</td>\n",
              "      <td>-25.0</td>\n",
              "      <td>0</td>\n",
              "      <td>Cash</td>\n",
              "      <td>20.0</td>\n",
              "      <td>-45.0</td>\n",
              "    </tr>\n",
              "  </tbody>\n",
              "</table>\n",
              "</div>\n",
              "    <div class=\"colab-df-buttons\">\n",
              "\n",
              "  <div class=\"colab-df-container\">\n",
              "    <button class=\"colab-df-convert\" onclick=\"convertToInteractive('df-b1438839-4dae-41db-995e-3f10d96568a9')\"\n",
              "            title=\"Convert this dataframe to an interactive table.\"\n",
              "            style=\"display:none;\">\n",
              "\n",
              "  <svg xmlns=\"http://www.w3.org/2000/svg\" height=\"24px\" viewBox=\"0 -960 960 960\">\n",
              "    <path d=\"M120-120v-720h720v720H120Zm60-500h600v-160H180v160Zm220 220h160v-160H400v160Zm0 220h160v-160H400v160ZM180-400h160v-160H180v160Zm440 0h160v-160H620v160ZM180-180h160v-160H180v160Zm440 0h160v-160H620v160Z\"/>\n",
              "  </svg>\n",
              "    </button>\n",
              "\n",
              "  <style>\n",
              "    .colab-df-container {\n",
              "      display:flex;\n",
              "      gap: 12px;\n",
              "    }\n",
              "\n",
              "    .colab-df-convert {\n",
              "      background-color: #E8F0FE;\n",
              "      border: none;\n",
              "      border-radius: 50%;\n",
              "      cursor: pointer;\n",
              "      display: none;\n",
              "      fill: #1967D2;\n",
              "      height: 32px;\n",
              "      padding: 0 0 0 0;\n",
              "      width: 32px;\n",
              "    }\n",
              "\n",
              "    .colab-df-convert:hover {\n",
              "      background-color: #E2EBFA;\n",
              "      box-shadow: 0px 1px 2px rgba(60, 64, 67, 0.3), 0px 1px 3px 1px rgba(60, 64, 67, 0.15);\n",
              "      fill: #174EA6;\n",
              "    }\n",
              "\n",
              "    .colab-df-buttons div {\n",
              "      margin-bottom: 4px;\n",
              "    }\n",
              "\n",
              "    [theme=dark] .colab-df-convert {\n",
              "      background-color: #3B4455;\n",
              "      fill: #D2E3FC;\n",
              "    }\n",
              "\n",
              "    [theme=dark] .colab-df-convert:hover {\n",
              "      background-color: #434B5C;\n",
              "      box-shadow: 0px 1px 3px 1px rgba(0, 0, 0, 0.15);\n",
              "      filter: drop-shadow(0px 1px 2px rgba(0, 0, 0, 0.3));\n",
              "      fill: #FFFFFF;\n",
              "    }\n",
              "  </style>\n",
              "\n",
              "    <script>\n",
              "      const buttonEl =\n",
              "        document.querySelector('#df-b1438839-4dae-41db-995e-3f10d96568a9 button.colab-df-convert');\n",
              "      buttonEl.style.display =\n",
              "        google.colab.kernel.accessAllowed ? 'block' : 'none';\n",
              "\n",
              "      async function convertToInteractive(key) {\n",
              "        const element = document.querySelector('#df-b1438839-4dae-41db-995e-3f10d96568a9');\n",
              "        const dataTable =\n",
              "          await google.colab.kernel.invokeFunction('convertToInteractive',\n",
              "                                                    [key], {});\n",
              "        if (!dataTable) return;\n",
              "\n",
              "        const docLinkHtml = 'Like what you see? Visit the ' +\n",
              "          '<a target=\"_blank\" href=https://colab.research.google.com/notebooks/data_table.ipynb>data table notebook</a>'\n",
              "          + ' to learn more about interactive tables.';\n",
              "        element.innerHTML = '';\n",
              "        dataTable['output_type'] = 'display_data';\n",
              "        await google.colab.output.renderOutput(dataTable, element);\n",
              "        const docLink = document.createElement('div');\n",
              "        docLink.innerHTML = docLinkHtml;\n",
              "        element.appendChild(docLink);\n",
              "      }\n",
              "    </script>\n",
              "  </div>\n",
              "\n",
              "\n",
              "<div id=\"df-034b5be5-14db-4b3e-a620-b59e7c2946a3\">\n",
              "  <button class=\"colab-df-quickchart\" onclick=\"quickchart('df-034b5be5-14db-4b3e-a620-b59e7c2946a3')\"\n",
              "            title=\"Suggest charts\"\n",
              "            style=\"display:none;\">\n",
              "\n",
              "<svg xmlns=\"http://www.w3.org/2000/svg\" height=\"24px\"viewBox=\"0 0 24 24\"\n",
              "     width=\"24px\">\n",
              "    <g>\n",
              "        <path d=\"M19 3H5c-1.1 0-2 .9-2 2v14c0 1.1.9 2 2 2h14c1.1 0 2-.9 2-2V5c0-1.1-.9-2-2-2zM9 17H7v-7h2v7zm4 0h-2V7h2v10zm4 0h-2v-4h2v4z\"/>\n",
              "    </g>\n",
              "</svg>\n",
              "  </button>\n",
              "\n",
              "<style>\n",
              "  .colab-df-quickchart {\n",
              "      --bg-color: #E8F0FE;\n",
              "      --fill-color: #1967D2;\n",
              "      --hover-bg-color: #E2EBFA;\n",
              "      --hover-fill-color: #174EA6;\n",
              "      --disabled-fill-color: #AAA;\n",
              "      --disabled-bg-color: #DDD;\n",
              "  }\n",
              "\n",
              "  [theme=dark] .colab-df-quickchart {\n",
              "      --bg-color: #3B4455;\n",
              "      --fill-color: #D2E3FC;\n",
              "      --hover-bg-color: #434B5C;\n",
              "      --hover-fill-color: #FFFFFF;\n",
              "      --disabled-bg-color: #3B4455;\n",
              "      --disabled-fill-color: #666;\n",
              "  }\n",
              "\n",
              "  .colab-df-quickchart {\n",
              "    background-color: var(--bg-color);\n",
              "    border: none;\n",
              "    border-radius: 50%;\n",
              "    cursor: pointer;\n",
              "    display: none;\n",
              "    fill: var(--fill-color);\n",
              "    height: 32px;\n",
              "    padding: 0;\n",
              "    width: 32px;\n",
              "  }\n",
              "\n",
              "  .colab-df-quickchart:hover {\n",
              "    background-color: var(--hover-bg-color);\n",
              "    box-shadow: 0 1px 2px rgba(60, 64, 67, 0.3), 0 1px 3px 1px rgba(60, 64, 67, 0.15);\n",
              "    fill: var(--button-hover-fill-color);\n",
              "  }\n",
              "\n",
              "  .colab-df-quickchart-complete:disabled,\n",
              "  .colab-df-quickchart-complete:disabled:hover {\n",
              "    background-color: var(--disabled-bg-color);\n",
              "    fill: var(--disabled-fill-color);\n",
              "    box-shadow: none;\n",
              "  }\n",
              "\n",
              "  .colab-df-spinner {\n",
              "    border: 2px solid var(--fill-color);\n",
              "    border-color: transparent;\n",
              "    border-bottom-color: var(--fill-color);\n",
              "    animation:\n",
              "      spin 1s steps(1) infinite;\n",
              "  }\n",
              "\n",
              "  @keyframes spin {\n",
              "    0% {\n",
              "      border-color: transparent;\n",
              "      border-bottom-color: var(--fill-color);\n",
              "      border-left-color: var(--fill-color);\n",
              "    }\n",
              "    20% {\n",
              "      border-color: transparent;\n",
              "      border-left-color: var(--fill-color);\n",
              "      border-top-color: var(--fill-color);\n",
              "    }\n",
              "    30% {\n",
              "      border-color: transparent;\n",
              "      border-left-color: var(--fill-color);\n",
              "      border-top-color: var(--fill-color);\n",
              "      border-right-color: var(--fill-color);\n",
              "    }\n",
              "    40% {\n",
              "      border-color: transparent;\n",
              "      border-right-color: var(--fill-color);\n",
              "      border-top-color: var(--fill-color);\n",
              "    }\n",
              "    60% {\n",
              "      border-color: transparent;\n",
              "      border-right-color: var(--fill-color);\n",
              "    }\n",
              "    80% {\n",
              "      border-color: transparent;\n",
              "      border-right-color: var(--fill-color);\n",
              "      border-bottom-color: var(--fill-color);\n",
              "    }\n",
              "    90% {\n",
              "      border-color: transparent;\n",
              "      border-bottom-color: var(--fill-color);\n",
              "    }\n",
              "  }\n",
              "</style>\n",
              "\n",
              "  <script>\n",
              "    async function quickchart(key) {\n",
              "      const quickchartButtonEl =\n",
              "        document.querySelector('#' + key + ' button');\n",
              "      quickchartButtonEl.disabled = true;  // To prevent multiple clicks.\n",
              "      quickchartButtonEl.classList.add('colab-df-spinner');\n",
              "      try {\n",
              "        const charts = await google.colab.kernel.invokeFunction(\n",
              "            'suggestCharts', [key], {});\n",
              "      } catch (error) {\n",
              "        console.error('Error during call to suggestCharts:', error);\n",
              "      }\n",
              "      quickchartButtonEl.classList.remove('colab-df-spinner');\n",
              "      quickchartButtonEl.classList.add('colab-df-quickchart-complete');\n",
              "    }\n",
              "    (() => {\n",
              "      let quickchartButtonEl =\n",
              "        document.querySelector('#df-034b5be5-14db-4b3e-a620-b59e7c2946a3 button');\n",
              "      quickchartButtonEl.style.display =\n",
              "        google.colab.kernel.accessAllowed ? 'block' : 'none';\n",
              "    })();\n",
              "  </script>\n",
              "</div>\n",
              "\n",
              "    </div>\n",
              "  </div>\n"
            ],
            "application/vnd.google.colaboratory.intrinsic+json": {
              "type": "dataframe",
              "summary": "{\n  \"name\": \"# print(high_discounts)\",\n  \"rows\": 18,\n  \"fields\": [\n    {\n      \"column\": \"TransactionID\",\n      \"properties\": {\n        \"dtype\": \"number\",\n        \"std\": 15,\n        \"min\": 2,\n        \"max\": 49,\n        \"num_unique_values\": 18,\n        \"samples\": [\n          2,\n          7,\n          26\n        ],\n        \"semantic_type\": \"\",\n        \"description\": \"\"\n      }\n    },\n    {\n      \"column\": \"CustomerID\",\n      \"properties\": {\n        \"dtype\": \"number\",\n        \"std\": 1.500544563459581,\n        \"min\": 1001.0,\n        \"max\": 1005.0,\n        \"num_unique_values\": 5,\n        \"samples\": [\n          1005.0,\n          1003.0,\n          1002.0\n        ],\n        \"semantic_type\": \"\",\n        \"description\": \"\"\n      }\n    },\n    {\n      \"column\": \"TransactionDate\",\n      \"properties\": {\n        \"dtype\": \"date\",\n        \"min\": \"2024-01-08 00:00:00\",\n        \"max\": \"2024-09-08 00:00:00\",\n        \"num_unique_values\": 7,\n        \"samples\": [\n          \"2024-07-08 00:00:00\",\n          \"2024-01-08 00:00:00\",\n          \"2024-03-08 00:00:00\"\n        ],\n        \"semantic_type\": \"\",\n        \"description\": \"\"\n      }\n    },\n    {\n      \"column\": \"ProductID\",\n      \"properties\": {\n        \"dtype\": \"number\",\n        \"std\": 1,\n        \"min\": 2002,\n        \"max\": 2008,\n        \"num_unique_values\": 7,\n        \"samples\": [\n          2004,\n          2007,\n          2008\n        ],\n        \"semantic_type\": \"\",\n        \"description\": \"\"\n      }\n    },\n    {\n      \"column\": \"ProductCategory\",\n      \"properties\": {\n        \"dtype\": \"category\",\n        \"num_unique_values\": 4,\n        \"samples\": [\n          \"Toys\",\n          \"Fashion\",\n          \"Home Decor\"\n        ],\n        \"semantic_type\": \"\",\n        \"description\": \"\"\n      }\n    },\n    {\n      \"column\": \"Quantity\",\n      \"properties\": {\n        \"dtype\": \"number\",\n        \"std\": 0,\n        \"min\": -1,\n        \"max\": 2,\n        \"num_unique_values\": 4,\n        \"samples\": [\n          -1,\n          0,\n          1\n        ],\n        \"semantic_type\": \"\",\n        \"description\": \"\"\n      }\n    },\n    {\n      \"column\": \"PricePerUnit\",\n      \"properties\": {\n        \"dtype\": \"number\",\n        \"std\": 183.102350034715,\n        \"min\": 10.0,\n        \"max\": 500.0,\n        \"num_unique_values\": 5,\n        \"samples\": [\n          30.0,\n          500.0,\n          50.0\n        ],\n        \"semantic_type\": \"\",\n        \"description\": \"\"\n      }\n    },\n    {\n      \"column\": \"TotalAmount\",\n      \"properties\": {\n        \"dtype\": \"number\",\n        \"std\": 122.92759173780928,\n        \"min\": -500.0,\n        \"max\": 50.0,\n        \"num_unique_values\": 9,\n        \"samples\": [\n          -10.0,\n          -30.0,\n          20.0\n        ],\n        \"semantic_type\": \"\",\n        \"description\": \"\"\n      }\n    },\n    {\n      \"column\": \"TrustPointsUsed\",\n      \"properties\": {\n        \"dtype\": \"number\",\n        \"std\": 44,\n        \"min\": -10,\n        \"max\": 100,\n        \"num_unique_values\": 5,\n        \"samples\": [\n          -10,\n          20,\n          50\n        ],\n        \"semantic_type\": \"\",\n        \"description\": \"\"\n      }\n    },\n    {\n      \"column\": \"PaymentMethod\",\n      \"properties\": {\n        \"dtype\": \"category\",\n        \"num_unique_values\": 3,\n        \"samples\": [\n          \"Credit Card\",\n          \"Cash\",\n          \"Trust Points\"\n        ],\n        \"semantic_type\": \"\",\n        \"description\": \"\"\n      }\n    },\n    {\n      \"column\": \"DiscountApplied\",\n      \"properties\": {\n        \"dtype\": \"number\",\n        \"std\": 13.060943124220303,\n        \"min\": 0.0,\n        \"max\": 50.0,\n        \"num_unique_values\": 6,\n        \"samples\": [\n          20.0,\n          0.0,\n          25.0\n        ],\n        \"semantic_type\": \"\",\n        \"description\": \"\"\n      }\n    },\n    {\n      \"column\": \"TotalAmount_Calculated\",\n      \"properties\": {\n        \"dtype\": \"number\",\n        \"std\": 123.03919615654873,\n        \"min\": -530.0,\n        \"max\": 20.0,\n        \"num_unique_values\": 12,\n        \"samples\": [\n          -50.0,\n          -25.0,\n          -10.0\n        ],\n        \"semantic_type\": \"\",\n        \"description\": \"\"\n      }\n    }\n  ]\n}"
            }
          },
          "metadata": {},
          "execution_count": 24
        }
      ]
    },
    {
      "cell_type": "code",
      "source": [
        "df['DiscountPercentage'] = round((df['DiscountApplied'] / df['TotalAmount_Calculated']) * 100,2)"
      ],
      "metadata": {
        "id": "lUDplPGMQ151"
      },
      "execution_count": null,
      "outputs": []
    },
    {
      "cell_type": "markdown",
      "source": [
        "# **Data Visualization**"
      ],
      "metadata": {
        "id": "0sIHbAJ9bOqZ"
      }
    },
    {
      "cell_type": "markdown",
      "source": [
        "**Time-Series Analysis**\n",
        "\n",
        "**Projection :** Sales over time, Discounts over time\n",
        "\n",
        "**Purpose :** To identify trends, seasonality, and anomalies in transactions over time."
      ],
      "metadata": {
        "id": "PmwwLPvzbcqU"
      }
    },
    {
      "cell_type": "code",
      "source": [
        "plt.figure(figsize=(15, 5))\n",
        "\n",
        "# First subplot: Line plot for Total sales over time\n",
        "plt.subplot(1, 3, 1)\n",
        "sns.lineplot(x=df['TransactionDate'].dt.date, y='TotalAmount_Calculated', data=df, estimator=sum)\n",
        "plt.xlabel('Transaction Date')\n",
        "plt.ylabel('Total Sales')\n",
        "plt.title('Total Sales Over Time')\n",
        "plt.xticks(rotation=45)\n",
        "\n",
        "# Second subplot: Bar plot for Total Amount over time\n",
        "plt.subplot(1, 3, 2)\n",
        "sns.barplot(x=df['TransactionDate'].dt.date, y='DiscountApplied', data=df, estimator=sum)\n",
        "plt.xlabel('Transaction Date')\n",
        "plt.ylabel('Discounts Applied')\n",
        "plt.title('Discount Applied Over Time')\n",
        "plt.xticks(rotation=45)\n",
        "\n",
        "plt.tight_layout()"
      ],
      "metadata": {
        "colab": {
          "base_uri": "https://localhost:8080/",
          "height": 507
        },
        "id": "J87oK3B2Uw6F",
        "outputId": "79910e09-c851-4477-d5ff-c33fa67b4ad1"
      },
      "execution_count": null,
      "outputs": [
        {
          "output_type": "display_data",
          "data": {
            "text/plain": [
              "<Figure size 1500x500 with 2 Axes>"
            ],
            "image/png": "[encoded data removed]"
          },
          "metadata": {}
        }
      ]
    },
    {
      "cell_type": "markdown",
      "source": [
        "# **Customer Analysis**\n",
        "**Projection :** Average spend per customer, total discounts received by each customer.\n",
        "\n",
        "**Purpose :** To understand customer behavior, spending patterns, and segmentation."
      ],
      "metadata": {
        "id": "1l-Oe6Y9nnbd"
      }
    },
    {
      "cell_type": "code",
      "source": [
        "plt.figure(figsize=(15, 5))\n",
        "\n",
        "plt.subplot(1, 3, 1)\n",
        "avg_spend_per_customer = df.groupby('CustomerID')['TotalAmount_Calculated'].mean()\n",
        "sns.barplot(x=avg_spend_per_customer.index, y=avg_spend_per_customer.values)\n",
        "plt.title('Average Spend per Customer')\n",
        "plt.xlabel('CustomerID')\n",
        "plt.ylabel('Average Spend')\n",
        "plt.xticks(rotation=90)\n",
        "\n",
        "plt.subplot(1, 3, 2)\n",
        "avg_discount_per_customer = df.groupby('CustomerID')['DiscountApplied'].sum()\n",
        "sns.barplot(x=avg_spend_per_customer.index, y=avg_spend_per_customer.values)\n",
        "plt.title('Total discounts received per Customer')\n",
        "plt.xlabel('CustomerID')\n",
        "plt.ylabel('Total discounts')\n",
        "plt.xticks(rotation=90)\n",
        "\n",
        "plt.tight_layout()"
      ],
      "metadata": {
        "colab": {
          "base_uri": "https://localhost:8080/",
          "height": 507
        },
        "id": "kvAooG7QgOls",
        "outputId": "63d5547b-5bb4-4e3c-9e23-83f4fbae7908"
      },
      "execution_count": null,
      "outputs": [
        {
          "output_type": "display_data",
          "data": {
            "text/plain": [
              "<Figure size 1500x500 with 2 Axes>"
            ],
            "image/png": "[encoded data removed]"
          },
          "metadata": {}
        }
      ]
    },
    {
      "cell_type": "markdown",
      "source": [
        "**Insights :**\n",
        "\n",
        "1003 has purchased or spent most of the money and received highest discounts compared to other customers."
      ],
      "metadata": {
        "id": "AqbIT7FRUiOa"
      }
    },
    {
      "cell_type": "markdown",
      "source": [
        "# **Product Analysis**\n",
        "\n",
        "**Projection :** Total sales by product category, average price per unit by category, total units sold by product.\n",
        "\n",
        "**Purpose :** To determine the best-selling products and categories."
      ],
      "metadata": {
        "id": "FHbm7ixRoRKU"
      }
    },
    {
      "cell_type": "code",
      "source": [
        "plt.figure(figsize=(15, 5))\n",
        "\n",
        "plt.subplot(1, 3, 1)\n",
        "sales_by_category = df.groupby('ProductCategory')['TotalAmount_Calculated'].sum()\n",
        "sns.barplot(x=sales_by_category.index, y=sales_by_category.values)\n",
        "plt.title('Total Sales by Product Category')\n",
        "plt.xlabel('Product Category')\n",
        "plt.ylabel('Total Sales')\n",
        "plt.xticks(rotation=45)\n",
        "\n",
        "\n",
        "plt.subplot(1, 3, 2)\n",
        "avg_price_by_category = df.groupby('ProductCategory')['TotalAmount_Calculated'].mean()\n",
        "sns.barplot(x=sales_by_category.index, y=sales_by_category.values)\n",
        "plt.title('Average Price Per Unit by Product Category')\n",
        "plt.xlabel('Product Category')\n",
        "plt.ylabel('Average Price')\n",
        "plt.xticks(rotation=45)"
      ],
      "metadata": {
        "colab": {
          "base_uri": "https://localhost:8080/",
          "height": 648
        },
        "id": "QUNF5Ga1laL-",
        "outputId": "4bf942a4-8aac-4334-f175-f86032e27330"
      },
      "execution_count": null,
      "outputs": [
        {
          "output_type": "execute_result",
          "data": {
            "text/plain": [
              "([0, 1, 2, 3, 4],\n",
              " [Text(0, 0, 'Electronics'),\n",
              "  Text(1, 0, 'Fashion'),\n",
              "  Text(2, 0, 'Grocery'),\n",
              "  Text(3, 0, 'Home Decor'),\n",
              "  Text(4, 0, 'Toys')])"
            ]
          },
          "metadata": {},
          "execution_count": 29
        },
        {
          "output_type": "display_data",
          "data": {
            "text/plain": [
              "<Figure size 1500x500 with 2 Axes>"
            ],
            "image/png": "[encoded data removed]"
          },
          "metadata": {}
        }
      ]
    },
    {
      "cell_type": "markdown",
      "source": [
        "**Insights :**  \n",
        "\n",
        "Fashion has highest sales and highest average salary followed by Home Decor."
      ],
      "metadata": {
        "id": "uxldQzPvUQ9S"
      }
    },
    {
      "cell_type": "markdown",
      "source": [
        "# **Payment Method Analysis**"
      ],
      "metadata": {
        "id": "oubAcIi9qHK6"
      }
    },
    {
      "cell_type": "code",
      "source": [
        "sns.countplot(x=df['PaymentMethod'])\n",
        "plt.title('Number of Transactions by Payment Method')\n",
        "plt.xlabel('Payment Method')\n",
        "plt.ylabel('Number of Transactions')"
      ],
      "metadata": {
        "colab": {
          "base_uri": "https://localhost:8080/",
          "height": 489
        },
        "id": "kNazVOHeoyyY",
        "outputId": "9ae39d74-10ba-4cd2-8de9-c040aa32b0a8"
      },
      "execution_count": null,
      "outputs": [
        {
          "output_type": "execute_result",
          "data": {
            "text/plain": [
              "Text(0, 0.5, 'Number of Transactions')"
            ]
          },
          "metadata": {},
          "execution_count": 30
        },
        {
          "output_type": "display_data",
          "data": {
            "text/plain": [
              "<Figure size 640x480 with 1 Axes>"
            ],
            "image/png": "[encoded data removed]"
          },
          "metadata": {}
        }
      ]
    },
    {
      "cell_type": "markdown",
      "source": [
        "**Insights :**\n",
        "\n",
        "Most of the customers prefer cash compared to other payment methods."
      ],
      "metadata": {
        "id": "10otJd1IT5ny"
      }
    },
    {
      "cell_type": "code",
      "source": [
        "#Correlation Heatmap\n",
        "corr_matrix = df.corr(numeric_only=True)\n",
        "sns.heatmap(corr_matrix, annot=True, cmap='coolwarm')\n",
        "plt.title('Correlation Matrix')\n"
      ],
      "metadata": {
        "colab": {
          "base_uri": "https://localhost:8080/",
          "height": 623
        },
        "id": "4kIH4XokrM1N",
        "outputId": "3f17481d-0581-4176-ab10-3f14f77dd713"
      },
      "execution_count": null,
      "outputs": [
        {
          "output_type": "execute_result",
          "data": {
            "text/plain": [
              "Text(0.5, 1.0, 'Correlation Matrix')"
            ]
          },
          "metadata": {},
          "execution_count": 31
        },
        {
          "output_type": "display_data",
          "data": {
            "text/plain": [
              "<Figure size 640x480 with 2 Axes>"
            ],
            "image/png": "[encoded data removed]"
          },
          "metadata": {}
        }
      ]
    },
    {
      "cell_type": "markdown",
      "source": [
        "**Insights :**\n",
        "\n",
        "**Quantity vs. TotalAmount (0.34) :** There is a moderate positive correlation between the quantity of items purchased and the total amount spent, which makes sense since buying more items typically increases the total cost.\n",
        "\n",
        "\n",
        "**PricePerUnit vs. TotalAmount_Calculated (0.58) :** Similarly, there is a strong positive correlation between PricePerUnit and TotalAmount_Calculated.\n",
        "\n",
        "**DiscountApplied vs. TotalAmount (0.22) :** A low positive correlation, suggesting that higher discounts slightly increase the total amount, potentially due to customers buying more when discounts are applied."
      ],
      "metadata": {
        "id": "4M2C9OUjVfdf"
      }
    },
    {
      "cell_type": "markdown",
      "source": [
        "**Linearity :**"
      ],
      "metadata": {
        "id": "T2ESaKgvs3Sz"
      }
    },
    {
      "cell_type": "code",
      "source": [
        "plt.figure(figsize=(4, 4))\n",
        "sns.scatterplot(x=df['Quantity'], y=df['TotalAmount_Calculated'])\n",
        "plt.title('Quantity vs. TotalAmount')\n",
        "plt.xlabel('Quantity')\n",
        "plt.ylabel('TotalAmount')\n",
        "plt.show()"
      ],
      "metadata": {
        "colab": {
          "base_uri": "https://localhost:8080/",
          "height": 410
        },
        "id": "PeVatVEyrz49",
        "outputId": "087b2a77-5327-4e44-d22c-98411339b003"
      },
      "execution_count": null,
      "outputs": [
        {
          "output_type": "display_data",
          "data": {
            "text/plain": [
              "<Figure size 400x400 with 1 Axes>"
            ],
            "image/png": "[encoded data removed]"
          },
          "metadata": {}
        }
      ]
    },
    {
      "cell_type": "markdown",
      "source": [
        "**Insights :**\n",
        "\n",
        "1.The data points do not appear to follow a straight line or a clear linear pattern.\n",
        "\n",
        "2.There seems to be a non-linear relationship between Quantity and TotalAmount. Some points are widely dispersed, and there is a lack of consistent trend."
      ],
      "metadata": {
        "id": "Al2jeAwaTjix"
      }
    }
  ]
}